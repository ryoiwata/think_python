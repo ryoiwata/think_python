{
 "cells": [
  {
   "cell_type": "markdown",
   "metadata": {},
   "source": [
    "# Chapter 1: The Way of the Program"
   ]
  },
  {
   "cell_type": "markdown",
   "metadata": {},
   "source": [
    "**Program** is a sequence of instructions that specifies how to perform a computation"
   ]
  },
  {
   "cell_type": "markdown",
   "metadata": {},
   "source": [
    "- **input** is the data that the program gets from a file, keyboard, network, etc.\n",
    "- **outout** is the data that the program returns on the screen, to a file, network, etc\n",
    "- **math** is math\n",
    "- **conditional execution** is checking for a condition and running code based off of that\n",
    "- **repitition** is performing some action repeatedly"
   ]
  },
  {
   "cell_type": "markdown",
   "metadata": {},
   "source": [
    "- **value** is what the program works with. i.e. 420, 69.0, herro\n",
    "- **type** is a category of a value"
   ]
  },
  {
   "cell_type": "markdown",
   "metadata": {},
   "source": [
    "- **formal language** is a language created for a specific purpose. Such as math formulas or chemical reactions.\n",
    "- **syntax** is how the statements are allowed to be structured. \n",
    "- **token** is the basic unit of the language. Can be words, a number, a sign, etc. "
   ]
  },
  {
   "cell_type": "markdown",
   "metadata": {},
   "source": [
    "# Chapter 2: Values, Expressions, and Statements"
   ]
  },
  {
   "cell_type": "markdown",
   "metadata": {},
   "source": [
    "# Chapter 3: Functions"
   ]
  },
  {
   "cell_type": "markdown",
   "metadata": {},
   "source": [
    "- **function** is a named sequence of statements that perform a computation\n",
    "- **argument** is the values in the parentheses of a function.\n",
    "- The function takes an argument and returns a return value"
   ]
  },
  {
   "cell_type": "markdown",
   "metadata": {},
   "source": [
    "- **module** is a file that contains related functions\n",
    "- To use the functions in a module, we must import it with the import statement\n",
    "    - `import antigravity`"
   ]
  },
  {
   "cell_type": "code",
   "execution_count": 1,
   "metadata": {},
   "outputs": [],
   "source": [
    "import antigravity"
   ]
  },
  {
   "cell_type": "markdown",
   "metadata": {},
   "source": [
    "- This creates a module object named after the module.  \n",
    "    - `>>> antigravity`\n",
    "    - `<module 'antigravity' from '/mnt/c/Users/ryoi3/Programming/conda_env/lib/python3.7/antigravity.py'>`"
   ]
  },
  {
   "cell_type": "code",
   "execution_count": 2,
   "metadata": {},
   "outputs": [
    {
     "data": {
      "text/plain": [
       "<module 'antigravity' from '/mnt/c/Users/ryoi3/Programming/conda_env/lib/python3.7/antigravity.py'>"
      ]
     },
     "execution_count": 2,
     "metadata": {},
     "output_type": "execute_result"
    }
   ],
   "source": [
    "antigravity"
   ]
  },
  {
   "cell_type": "markdown",
   "metadata": {},
   "source": [
    "- The module object contains the functions and variables defined in the variable. To access these, specifiy the name of the module object and the name of the function seperated by a dot. This is called **dot notation**\n",
    "    - `antigravity.webbrowser.Chrome`"
   ]
  },
  {
   "cell_type": "code",
   "execution_count": 3,
   "metadata": {
    "scrolled": true
   },
   "outputs": [
    {
     "data": {
      "text/plain": [
       "webbrowser.Chrome"
      ]
     },
     "execution_count": 3,
     "metadata": {},
     "output_type": "execute_result"
    }
   ],
   "source": [
    "antigravity.webbrowser.Chrome"
   ]
  },
  {
   "cell_type": "markdown",
   "metadata": {},
   "source": [
    "- The argument of a function can be any kind of expression. Even function calls. \n",
    "    - `statistics.mean([random.randrange(0,3), random.randrange(0,100), random.randrange(0,1000)])`"
   ]
  },
  {
   "cell_type": "code",
   "execution_count": 4,
   "metadata": {},
   "outputs": [],
   "source": [
    "import random\n",
    "import statistics"
   ]
  },
  {
   "cell_type": "code",
   "execution_count": 5,
   "metadata": {
    "scrolled": true
   },
   "outputs": [
    {
     "data": {
      "text/plain": [
       "223"
      ]
     },
     "execution_count": 5,
     "metadata": {},
     "output_type": "execute_result"
    }
   ],
   "source": [
    "statistics.mean([random.randrange(0,3), random.randrange(0,100), random.randrange(0,1000)])"
   ]
  },
  {
   "cell_type": "markdown",
   "metadata": {},
   "source": [
    "- **function definition** specifies the name of the function and the sequence of statemens that run when the function is called\n",
    "- Empty parentheses after the name means the function doesn't take arguments\n",
    "- The first line is called the header, and the rest is the body. The body is indented. "
   ]
  },
  {
   "cell_type": "code",
   "execution_count": 6,
   "metadata": {},
   "outputs": [],
   "source": [
    "def someone_who_cares():\n",
    "    feelings = input(\"What are you feeling? \")\n",
    "    print(\"Ah, I see that you are feeling \" + feelings)\n",
    "    while True:\n",
    "        consent = input(\"Would you like to talk about it? \")\n",
    "        if consent != \"no\":\n",
    "            new_feelings = input(\"Let's talk! What are you feeling now? \")\n",
    "            print(\"Ah, I see that you are feeling \" + new_feelings)\n",
    "        else:\n",
    "            print(\"Thank you for talking with me :)\")\n",
    "            break    "
   ]
  },
  {
   "cell_type": "markdown",
   "metadata": {},
   "source": [
    "- Defining a function creates a function object. The function is called with the function name followed by parentheses and the arguments."
   ]
  },
  {
   "cell_type": "code",
   "execution_count": 7,
   "metadata": {},
   "outputs": [
    {
     "name": "stdout",
     "output_type": "stream",
     "text": [
      "<function someone_who_cares at 0x7fe964a77f80>\n"
     ]
    }
   ],
   "source": [
    "print(someone_who_cares)"
   ]
  },
  {
   "cell_type": "code",
   "execution_count": 8,
   "metadata": {},
   "outputs": [
    {
     "data": {
      "text/plain": [
       "function"
      ]
     },
     "execution_count": 8,
     "metadata": {},
     "output_type": "execute_result"
    }
   ],
   "source": [
    "type(someone_who_cares)"
   ]
  },
  {
   "cell_type": "code",
   "execution_count": 9,
   "metadata": {
    "scrolled": true
   },
   "outputs": [
    {
     "name": "stdout",
     "output_type": "stream",
     "text": [
      "What are you feeling? shy\n",
      "Ah, I see that you are feeling shy\n",
      "Would you like to talk about it? mabye\n",
      "Let's talk! What are you feeling now? better\n",
      "Ah, I see that you are feeling better\n",
      "Would you like to talk about it? no\n",
      "Thank you for talking with me :)\n"
     ]
    }
   ],
   "source": [
    "someone_who_cares()"
   ]
  },
  {
   "cell_type": "markdown",
   "metadata": {},
   "source": [
    "- You can use functions inside another function"
   ]
  },
  {
   "cell_type": "code",
   "execution_count": 10,
   "metadata": {},
   "outputs": [],
   "source": [
    "def two_people_who_care():\n",
    "    print(\"Hi! I'm person #1!\")\n",
    "    someone_who_cares()\n",
    "    print(\"Hello! I'm person #2!\")\n",
    "    someone_who_cares()"
   ]
  },
  {
   "cell_type": "code",
   "execution_count": 11,
   "metadata": {
    "scrolled": true
   },
   "outputs": [
    {
     "name": "stdout",
     "output_type": "stream",
     "text": [
      "Hi! I'm person #1!\n",
      "What are you feeling? curious\n",
      "Ah, I see that you are feeling curious\n",
      "Would you like to talk about it? no\n",
      "Thank you for talking with me :)\n",
      "Hello! I'm person #2!\n",
      "What are you feeling? annoyed\n",
      "Ah, I see that you are feeling annoyed\n",
      "Would you like to talk about it? relaxed\n",
      "Let's talk! What are you feeling now? no\n",
      "Ah, I see that you are feeling no\n",
      "Would you like to talk about it? no\n",
      "Thank you for talking with me :)\n"
     ]
    }
   ],
   "source": [
    "two_people_who_care()"
   ]
  },
  {
   "cell_type": "markdown",
   "metadata": {},
   "source": [
    "- Function definition created a function object, but the statements inside the function are not run until it is called. There's no output as well. \n",
    "- You have to create a function before you call it\n",
    "- There is a flow of execution in a program starts at the first statement and runs one at a time. From top to bottom. Function calls return to the body where the function is defined, runs that. And then picks up where it was left off. "
   ]
  },
  {
   "cell_type": "markdown",
   "metadata": {},
   "source": [
    "- Inside a function, an argument is assigned to a variable called the **parameter**\n",
    "- You can use variables or other function calls as arguments to be stored as parameters"
   ]
  },
  {
   "cell_type": "code",
   "execution_count": 12,
   "metadata": {},
   "outputs": [],
   "source": [
    "def reverse_repeater(phrase):\n",
    "    reverse_phrase = phrase[::-1]\n",
    "    return(reverse_phrase)"
   ]
  },
  {
   "cell_type": "code",
   "execution_count": 13,
   "metadata": {
    "scrolled": true
   },
   "outputs": [
    {
     "data": {
      "text/plain": [
       "'dlrow olleh'"
      ]
     },
     "execution_count": 13,
     "metadata": {},
     "output_type": "execute_result"
    }
   ],
   "source": [
    "reverse_repeater(\"hello world\")"
   ]
  },
  {
   "cell_type": "code",
   "execution_count": 14,
   "metadata": {
    "scrolled": true
   },
   "outputs": [
    {
     "data": {
      "text/plain": [
       "['friends?',\n",
       " 'be',\n",
       " 'still',\n",
       " 'we',\n",
       " 'can',\n",
       " 'friends?',\n",
       " 'be',\n",
       " 'still',\n",
       " 'we',\n",
       " 'can',\n",
       " 'friends?',\n",
       " 'be',\n",
       " 'still',\n",
       " 'we',\n",
       " 'can']"
      ]
     },
     "execution_count": 14,
     "metadata": {},
     "output_type": "execute_result"
    }
   ],
   "source": [
    "reverse_repeater([\"can\", \"we\", \"still\", \"be\", \"friends?\"] * 3)"
   ]
  },
  {
   "cell_type": "markdown",
   "metadata": {},
   "source": [
    "- In a function, variables and parameters are local to the function. You can not use the variables outside of the function unless if you return the variable as an output or store it"
   ]
  },
  {
   "cell_type": "code",
   "execution_count": 15,
   "metadata": {
    "scrolled": false
   },
   "outputs": [
    {
     "ename": "NameError",
     "evalue": "name 'phrase' is not defined",
     "output_type": "error",
     "traceback": [
      "\u001b[0;31m---------------------------------------------------------------------------\u001b[0m",
      "\u001b[0;31mNameError\u001b[0m                                 Traceback (most recent call last)",
      "\u001b[0;32m<ipython-input-15-00c13f6afa1d>\u001b[0m in \u001b[0;36m<module>\u001b[0;34m\u001b[0m\n\u001b[1;32m      1\u001b[0m \u001b[0;31m#phrase variable is in the function reverse repeater but can't be called outside of it\u001b[0m\u001b[0;34m\u001b[0m\u001b[0;34m\u001b[0m\u001b[0;34m\u001b[0m\u001b[0m\n\u001b[1;32m      2\u001b[0m \u001b[0;34m\u001b[0m\u001b[0m\n\u001b[0;32m----> 3\u001b[0;31m \u001b[0mprint\u001b[0m\u001b[0;34m(\u001b[0m\u001b[0mphrase\u001b[0m\u001b[0;34m)\u001b[0m\u001b[0;34m\u001b[0m\u001b[0;34m\u001b[0m\u001b[0m\n\u001b[0m",
      "\u001b[0;31mNameError\u001b[0m: name 'phrase' is not defined"
     ]
    }
   ],
   "source": [
    "#phrase variable is in the function reverse repeater but can't be called outside of it\n",
    "\n",
    "print(phrase)"
   ]
  },
  {
   "cell_type": "markdown",
   "metadata": {},
   "source": [
    "- To keep track of variables you can use a stack diagram. Shows the value of each variable and what function it belongs to.\n",
    "- Each function is represented by a frame which has the parameters/variables associated with it\n",
    "- The top frame calls the one below it, and that one calls the one below it and so on. The topmost frame is called `_main_` and all the variables created outside of functions belong to it\n",
    "- Each parameter refers to the same value as its corresponding argument. "
   ]
  },
  {
   "cell_type": "code",
   "execution_count": 16,
   "metadata": {},
   "outputs": [],
   "source": [
    "def word_wave(word):\n",
    "    for num in range(0, len(word) + 1):\n",
    "        print(word[:num])\n",
    "\n",
    "    for num in range(len(word) - 1, 0, -1):\n",
    "        print(word[:num])"
   ]
  },
  {
   "cell_type": "code",
   "execution_count": 17,
   "metadata": {},
   "outputs": [
    {
     "data": {
      "text/plain": [
       "'?yako ,terces ruo si sihT'"
      ]
     },
     "execution_count": 17,
     "metadata": {},
     "output_type": "execute_result"
    }
   ],
   "source": [
    "reverse_repeater(\"This is our secret, okay?\")"
   ]
  },
  {
   "cell_type": "code",
   "execution_count": 18,
   "metadata": {
    "scrolled": true
   },
   "outputs": [],
   "source": [
    "my_word = \"?yako ,terces ruo si sihT\""
   ]
  },
  {
   "cell_type": "code",
   "execution_count": 19,
   "metadata": {
    "scrolled": true
   },
   "outputs": [
    {
     "name": "stdout",
     "output_type": "stream",
     "text": [
      "\n",
      "T\n",
      "Th\n",
      "Thi\n",
      "This\n",
      "This \n",
      "This i\n",
      "This is\n",
      "This is \n",
      "This is o\n",
      "This is ou\n",
      "This is our\n",
      "This is our \n",
      "This is our s\n",
      "This is our se\n",
      "This is our sec\n",
      "This is our secr\n",
      "This is our secre\n",
      "This is our secret\n",
      "This is our secret,\n",
      "This is our secret, \n",
      "This is our secret, o\n",
      "This is our secret, ok\n",
      "This is our secret, oka\n",
      "This is our secret, okay\n",
      "This is our secret, okay?\n",
      "This is our secret, okay\n",
      "This is our secret, oka\n",
      "This is our secret, ok\n",
      "This is our secret, o\n",
      "This is our secret, \n",
      "This is our secret,\n",
      "This is our secret\n",
      "This is our secre\n",
      "This is our secr\n",
      "This is our sec\n",
      "This is our se\n",
      "This is our s\n",
      "This is our \n",
      "This is our\n",
      "This is ou\n",
      "This is o\n",
      "This is \n",
      "This is\n",
      "This i\n",
      "This \n",
      "This\n",
      "Thi\n",
      "Th\n",
      "T\n"
     ]
    }
   ],
   "source": [
    "word_wave(reverse_repeater(my_word))"
   ]
  },
  {
   "cell_type": "markdown",
   "metadata": {},
   "source": [
    "`__main__`\n",
    "- `my_word` >>> \"?yako ,terces ruo si sihT\"\n",
    "\n",
    "`reverse_repeater`\n",
    "- `word` >>> \"?yako ,terces ruo si sihT\"\n",
    "- `reverse_phrase` >>> \"This is our secret, okay?\"\n",
    "\n",
    "`word_wave`\n",
    "- `word` >>> \"This is our secret, okay?\""
   ]
  },
  {
   "cell_type": "markdown",
   "metadata": {},
   "source": [
    "- If there's an error that occurs when calling any function, there will be a traceback where every function that called that one will be displayed. All the way back to `__main__`\n",
    "- **fruitful functions** return a value, **void functions** do not return anything. Both can perform an action and output it on the screen as well. If you set a variable to a void function call, then you will just get `None`"
   ]
  },
  {
   "cell_type": "code",
   "execution_count": 2,
   "metadata": {},
   "outputs": [
    {
     "name": "stdout",
     "output_type": "stream",
     "text": [
      "this was supposed to be something, but it failed\n"
     ]
    }
   ],
   "source": [
    "no_var = print(\"this was supposed to be something, but it failed\")"
   ]
  },
  {
   "cell_type": "code",
   "execution_count": 4,
   "metadata": {},
   "outputs": [
    {
     "data": {
      "text/plain": [
       "NoneType"
      ]
     },
     "execution_count": 4,
     "metadata": {},
     "output_type": "execute_result"
    }
   ],
   "source": [
    "type(no_var)"
   ]
  },
  {
   "cell_type": "markdown",
   "metadata": {},
   "source": [
    "- Functions allows you to name a group of statements which makes it easier to read and debug\n",
    "- Eliminates repetitive code and you only need to edit the function definition"
   ]
  },
  {
   "cell_type": "markdown",
   "metadata": {},
   "source": [
    "# Chapter 4: Case Study: Interface Design"
   ]
  },
  {
   "cell_type": "markdown",
   "metadata": {},
   "source": [
    "jupyter nbextension enable --py --sys-prefix ipyturtle"
   ]
  },
  {
   "cell_type": "code",
   "execution_count": 1,
   "metadata": {},
   "outputs": [],
   "source": [
    "import turtle"
   ]
  },
  {
   "cell_type": "code",
   "execution_count": 3,
   "metadata": {},
   "outputs": [],
   "source": [
    "# Leonard = turtle.Turtle()\n",
    "# print(Leonard)"
   ]
  },
  {
   "cell_type": "markdown",
   "metadata": {},
   "source": [
    "The `Turtle` function from the `turtle` module creates a Turtle object. We've assigned this object to Leonard. We're calling the actual function because it has parnethesis at the end. If not, then we would just store the function.\n",
    "- `<turtle.Turtle object at 0x000001D3221A9248>`"
   ]
  },
  {
   "cell_type": "markdown",
   "metadata": {},
   "source": [
    "We can move the Turtle object by calling a **method**. A method is a function that belongs to an object. "
   ]
  },
  {
   "cell_type": "markdown",
   "metadata": {},
   "source": [
    "Turtle Commands\n",
    "\n",
    "`Leonard.fd(100)\n",
    "Leonard.bk(100)\n",
    "Leonard.lt(90)\n",
    "Leonard.rt(90)\n",
    "Leonard.pu()\n",
    "Leonard.pd()`\n"
   ]
  },
  {
   "cell_type": "markdown",
   "metadata": {},
   "source": [
    "Creating a square\n",
    "\n",
    "`Leonard.fd(100)\n",
    "Leonard.rt(90)\n",
    "Leonard.fd(100)\n",
    "Leonard.rt(90)\n",
    "Leonard.fd(100)\n",
    "Leonard.rt(90)\n",
    "Leonard.fd(100)`"
   ]
  },
  {
   "cell_type": "markdown",
   "metadata": {},
   "source": [
    "Creating a square with a loop\n",
    "\n",
    "`for num in range(4):\n",
    "    Leonard.fd(100)\n",
    "    Leonard.rt(90)`"
   ]
  },
  {
   "cell_type": "markdown",
   "metadata": {},
   "source": [
    "Function that takes in a turtle object and creates a square.\n",
    "`def square(t):\n",
    "    for num in range(4):\n",
    "        t.fd(100)\n",
    "        t.rt(90)`"
   ]
  },
  {
   "cell_type": "markdown",
   "metadata": {},
   "source": [
    "Function that takes a turtle object, length, and number of sides\n",
    "`def polygon(t, sides=3, length=100):\n",
    "    for num in range(sides):\n",
    "        t.fd(length)\n",
    "        t.rt(360/sides)`"
   ]
  },
  {
   "cell_type": "markdown",
   "metadata": {},
   "source": [
    "- Wrapping segments of code in a function is called **encapsulation** . Attaches a name to the code and more concise to use/edit. \n",
    "- In the function, `t` can refer to any Turtle object that you use as an argument. \n",
    "- Adding a parameter that you can adjust is **generalization** because you can use it in more ways instead of a default setting. \n",
    "- **Interface** is a summary of how the function is used. What are the parameters? What does the function do? What is the return value?\n",
    "- **Refactoring** is rearranging a program to improve the interface and reuse code.If there's a more fundamental action that can be done, write a function for that so you can use it for more complicated functions. \n",
    "- **Docstring** string at the beginning of a function that explains the interface"
   ]
  },
  {
   "cell_type": "code",
   "execution_count": null,
   "metadata": {},
   "outputs": [],
   "source": [
    "Function that create a string of lines that turn at a certain angle:\n",
    "- def polyline(t, n=3, length=100, angle=60):\n",
    "    for i in range (n):\n",
    "        t.fd(length)\n",
    "        t.lt(angle)"
   ]
  },
  {
   "cell_type": "markdown",
   "metadata": {},
   "source": [
    "# Chapter 5: Conditionals and Recursion"
   ]
  },
  {
   "cell_type": "markdown",
   "metadata": {},
   "source": [
    "- **Boolean Expressions** are an exxpression that can be true or false. \n",
    "- The operater, `==` compares two operands and returns `True` if they are equal, and `False` if otherwise"
   ]
  },
  {
   "cell_type": "code",
   "execution_count": 1,
   "metadata": {},
   "outputs": [
    {
     "data": {
      "text/plain": [
       "True"
      ]
     },
     "execution_count": 1,
     "metadata": {},
     "output_type": "execute_result"
    }
   ],
   "source": [
    "420 == 42 * 2 * 5"
   ]
  },
  {
   "cell_type": "code",
   "execution_count": 2,
   "metadata": {},
   "outputs": [
    {
     "data": {
      "text/plain": [
       "False"
      ]
     },
     "execution_count": 2,
     "metadata": {},
     "output_type": "execute_result"
    }
   ],
   "source": [
    "\"left\" == \"right\""
   ]
  },
  {
   "cell_type": "code",
   "execution_count": 3,
   "metadata": {
    "scrolled": true
   },
   "outputs": [
    {
     "data": {
      "text/plain": [
       "bool"
      ]
     },
     "execution_count": 3,
     "metadata": {},
     "output_type": "execute_result"
    }
   ],
   "source": [
    "type(True)"
   ]
  },
  {
   "cell_type": "markdown",
   "metadata": {},
   "source": [
    "Other relational operators:\n",
    "- `x != y`\n",
    "- `x > y`\n",
    "- `x < y`\n",
    "- `x >= y`\n",
    "- `x <= y`"
   ]
  },
  {
   "cell_type": "markdown",
   "metadata": {},
   "source": [
    "- `and` is true when both conditions are `True`\n",
    "- `or` is true when at least one condition is `True`\n",
    "- `not` negates the expression, so `not(7 > 8) would return `True` and `not(True)` would return `False`\n",
    "- Any non zero number is interpreted as `True`"
   ]
  },
  {
   "cell_type": "code",
   "execution_count": 6,
   "metadata": {
    "scrolled": false
   },
   "outputs": [
    {
     "data": {
      "text/plain": [
       "True"
      ]
     },
     "execution_count": 6,
     "metadata": {},
     "output_type": "execute_result"
    }
   ],
   "source": [
    "not(\"hello\" in \"bye Felicia\")"
   ]
  },
  {
   "cell_type": "code",
   "execution_count": 7,
   "metadata": {},
   "outputs": [
    {
     "name": "stdout",
     "output_type": "stream",
     "text": [
      "that's the truth\n"
     ]
    }
   ],
   "source": [
    "if 7 and 69 == 23 * 3:\n",
    "    print(\"that's the truth\")"
   ]
  },
  {
   "cell_type": "markdown",
   "metadata": {},
   "source": [
    "- **Conditional Statements** checks for a condition and changes the program behavior accordingly. \n",
    "- The boolean expresion after `if` is the **condition**. If it's `True` then indented statements run. If not then nothing happens.\n",
    "- **Alternative execution** is running a statement when a condition is not met. The alternative is called a branch because they branch off of the original flow of execution. The indented statements for `else` is run. \n",
    "- **Chained conditionals** are when there are more than two conditions for a statement to run. `elif` is an abbreviation of **else if**. Only one branch will run, but you can have as many `elif` statements as you want. `else` is not needed, but needs to be at the bottom. Each condition is checked in order. \n",
    "- **Nested conditions** are when there is a conditional statement that needs to run one way, before checking the condition of another statement. These become hard to read, so you should consider combining the conditionals into one using `and`."
   ]
  },
  {
   "cell_type": "markdown",
   "metadata": {},
   "source": [
    "- `Recursion` is when a function calls itself. "
   ]
  },
  {
   "cell_type": "code",
   "execution_count": 4,
   "metadata": {},
   "outputs": [],
   "source": [
    "import random"
   ]
  },
  {
   "cell_type": "code",
   "execution_count": 10,
   "metadata": {},
   "outputs": [
    {
     "data": {
      "text/plain": [
       "'ello'"
      ]
     },
     "execution_count": 10,
     "metadata": {},
     "output_type": "execute_result"
    }
   ],
   "source": [
    "\"hello\"[1:]"
   ]
  },
  {
   "cell_type": "code",
   "execution_count": 11,
   "metadata": {},
   "outputs": [
    {
     "data": {
      "text/plain": [
       "'h'"
      ]
     },
     "execution_count": 11,
     "metadata": {},
     "output_type": "execute_result"
    }
   ],
   "source": [
    "\"hello\"[:1]"
   ]
  },
  {
   "cell_type": "code",
   "execution_count": 20,
   "metadata": {},
   "outputs": [],
   "source": [
    "def spiral(sacrifice=\"I'm being eaten!\"):\n",
    "    print(sacrifice)\n",
    "    if len(sacrifice):\n",
    "        random_index = random.randint(0, len(sacrifice) - 1)\n",
    "        sacrifice = sacrifice[:random_index] + sacrifice[random_index + 1:]\n",
    "        spiral(sacrifice)\n",
    "    else:\n",
    "        print(\"another one has been taken...\")\n",
    "    "
   ]
  },
  {
   "cell_type": "code",
   "execution_count": 22,
   "metadata": {},
   "outputs": [
    {
     "name": "stdout",
     "output_type": "stream",
     "text": [
      "Wake up late, eat some cereal Try my best to be physical Lose myself in a TV show Staring out to oblivion\n",
      "Wake up late, eat soe cereal Try my best to be physical Lose myself in a TV show Staring out to oblivion\n",
      "Wake up late,eat soe cereal Try my best to be physical Lose myself in a TV show Staring out to oblivion\n",
      "Wake up late,eat soe cereal Try my best to be physical Lose myself in a TV show Staring out o oblivion\n",
      "Wake up late,eat soe cereal Try my best to be physical Lose myself in a TV show taring out o oblivion\n",
      "Wake up late,eat soe cereal Try my bestto be physical Lose myself in a TV show taring out o oblivion\n",
      "Wake up late,eat soe cereal Try my bestto be physical Lose myself ina TV show taring out o oblivion\n",
      "Wak up late,eat soe cereal Try my bestto be physical Lose myself ina TV show taring out o oblivion\n",
      "Wak up late,eat soe cereal Try my bestto be physical Loe myself ina TV show taring out o oblivion\n",
      "Wak up late,eat soe cereal Try my bestto be physical Loe myself ina TV show tarig out o oblivion\n",
      "Wak up late,eat soe cereal Try my bestto be physical Loe myself ina TV show targ out o oblivion\n",
      "Wak up late,eat soe cereal Try my bestto be physicl Loe myself ina TV show targ out o oblivion\n",
      "Wak up late,eat soe cereal Try m bestto be physicl Loe myself ina TV show targ out o oblivion\n",
      "Wak up late,eat soe cereal Try m bestto be physicl Loe myself ina V show targ out o oblivion\n",
      "Wak up late,eat soe cereal Try m bestt be physicl Loe myself ina V show targ out o oblivion\n",
      "Wak up late,eat soe cereal Try m bestt be physicl Loe myself ina V show targ out o olivion\n",
      "Wak up late,at soe cereal Try m bestt be physicl Loe myself ina V show targ out o olivion\n",
      "Wak up late,at soe cereal Try m bestt be physicl Loe myself ina V show tag out o olivion\n",
      "Wak up late,at soe cereal Try m bestt be physicl Loe mysef ina V show tag out o olivion\n",
      "Wak up late,at soe cereal Try m bestt be physicl Loe mysef ina V show tag out o olivin\n",
      "Wak up late,at soe cereal Try m estt be physicl Loe mysef ina V show tag out o olivin\n",
      "Wa up late,at soe cereal Try m estt be physicl Loe mysef ina V show tag out o olivin\n",
      "Wa up late,at soe cereal Try  estt be physicl Loe mysef ina V show tag out o olivin\n",
      "Wa uplate,at soe cereal Try  estt be physicl Loe mysef ina V show tag out o olivin\n",
      "Wa uplate,at soe cereal Try  estt be physicl Loe myef ina V show tag out o olivin\n",
      "Wa uplate,at soecereal Try  estt be physicl Loe myef ina V show tag out o olivin\n",
      "Wa uplate,at soecereal ry  estt be physicl Loe myef ina V show tag out o olivin\n",
      "Wa uplate,at soecereal ry  estt be physicl Loe myef ina V show tag out o livin\n",
      "Wa uplate,at soecereal ry  estt be physicl Loe myef ina V show tag ut o livin\n",
      "Wa upate,at soecereal ry  estt be physicl Loe myef ina V show tag ut o livin\n",
      "Wa upate,at soecereal ry  estt bephysicl Loe myef ina V show tag ut o livin\n",
      "Wa upate,at soecereal ry  estt bephysicl Loe myef ina V show tag ut o liin\n",
      "Wa upate,at soecereal ry  estt bephysicl Loe mef ina V show tag ut o liin\n",
      "Wa upate,at soecereal ry  estt bephysicl Loemef ina V show tag ut o liin\n",
      "Wa upate,at soecereal ry  est bephysicl Loemef ina V show tag ut o liin\n",
      "Wa upate,at soecereal ry  st bephysicl Loemef ina V show tag ut o liin\n",
      "Wa upate,at soecereal ry  st bephysicl Loemef ina V show tag ut o lin\n",
      "Wa upate,at soecereal ry  s bephysicl Loemef ina V show tag ut o lin\n",
      "Wa upate,at soecerea ry  s bephysicl Loemef ina V show tag ut o lin\n",
      "Wa upate,at soecerea ry  s bephysicl Loemef ina V how tag ut o lin\n",
      "Wa upate,at soecerea ry  s bephysicl Loemef ina V how tag ut olin\n",
      "Wa upate,at soecerea ry s bephysicl Loemef ina V how tag ut olin\n",
      "Wa upate,at soecerea ry s bephysicl Loemef ina  how tag ut olin\n",
      "Wa upate,at soecerea ry s bephysicl Loemef ina  hw tag ut olin\n",
      "Wa upate,at soeceea ry s bephysicl Loemef ina  hw tag ut olin\n",
      "Wa upate,at soeceea ry s bephysicl Loemef ina  hw tag u olin\n",
      "Wa upate,at seceea ry s bephysicl Loemef ina  hw tag u olin\n",
      "a upate,at seceea ry s bephysicl Loemef ina  hw tag u olin\n",
      "a upate,at seceea rys bephysicl Loemef ina  hw tag u olin\n",
      "a upate,at seceea rys bephysicl Loemef ina  hw tag u oli\n",
      "a upate,at seceea rys bephysicl Loemef ina hw tag u oli\n",
      "a pate,at seceea rys bephysicl Loemef ina hw tag u oli\n",
      "a pate,atseceea rys bephysicl Loemef ina hw tag u oli\n",
      "a pate,atseceea rys bephyscl Loemef ina hw tag u oli\n",
      "a pate,atseceea rysbephyscl Loemef ina hw tag u oli\n",
      "a pate,atseceea rysbephyscl Lemef ina hw tag u oli\n",
      "a pate,atseceea rysbephyscl Lemef ia hw tag u oli\n",
      "a pate,atseeea rysbephyscl Lemef ia hw tag u oli\n",
      "a pate,atseeea rysbephscl Lemef ia hw tag u oli\n",
      "a pate,atseeea rysbephscl Lemef ia hw tag u oi\n",
      "a pate,atseeea rysephscl Lemef ia hw tag u oi\n",
      "a pate,atseeea rysephscl Leef ia hw tag u oi\n",
      "a pate,atseeea rysphscl Leef ia hw tag u oi\n",
      "a pte,atseeea rysphscl Leef ia hw tag u oi\n",
      "a pte,aseeea rysphscl Leef ia hw tag u oi\n",
      "a pte,aseeea ryspscl Leef ia hw tag u oi\n",
      "a pte,aseeea ryspscl Leef ia hw tag u i\n",
      "a te,aseeea ryspscl Leef ia hw tag u i\n",
      "a te,aseeea rysscl Leef ia hw tag u i\n",
      "a te,aseeea rysscl eef ia hw tag u i\n",
      "a te,aseeea rysscl eef ia hwtag u i\n",
      "a te,aseeea rysscl eef ia hwtag  i\n",
      "a te,aseeea rysscl ee ia hwtag  i\n",
      "a te,aseeea ryscl ee ia hwtag  i\n",
      "a te,aseeea ryscl e ia hwtag  i\n",
      "a te,aseee ryscl e ia hwtag  i\n",
      "ate,aseee ryscl e ia hwtag  i\n",
      "ate,aeee ryscl e ia hwtag  i\n",
      "ate,aeee rscl e ia hwtag  i\n",
      "ate,aeee rscl e iahwtag  i\n",
      "ate,aeee rscl e iahwtag  \n",
      "ate,aeee rscle iahwtag  \n",
      "ate,aeee rscleiahwtag  \n",
      "ate,aeee rscleihwtag  \n",
      "ate,aee rscleihwtag  \n",
      "ate,aee rscleihwtag \n",
      "at,aee rscleihwtag \n",
      "at,aee rscleihwta \n",
      "at,aee rscleihwta\n",
      "at,aee rsceihwta\n",
      "at,aee rsceihta\n",
      "at,aee rsceiha\n",
      "a,aee rsceiha\n",
      "a,aee rsciha\n",
      "a,ee rsciha\n",
      "a,ee rscih\n",
      "a,ee rsih\n",
      ",ee rsih\n",
      ",eersih\n",
      ",ersih\n",
      ",rsih\n",
      "rsih\n",
      "rih\n",
      "rh\n",
      "h\n",
      "\n",
      "another one has been taken...\n"
     ]
    }
   ],
   "source": [
    "spiral(\"Wake up late, eat some cereal Try my best to be physical Lose myself in a TV show Staring out to oblivion\")"
   ]
  },
  {
   "cell_type": "markdown",
   "metadata": {},
   "source": [
    "# Chapter 6: Fruitful Functions"
   ]
  },
  {
   "cell_type": "markdown",
   "metadata": {},
   "source": [
    "- Every function returns a value that can be stored as a variable or used in an expression.\n",
    "- If there is not `return` statement in the function, then `None` is returned. Once the `return` statement is run, then the function stops running.\n",
    "- **Sacffolding** in code is statements that help with development and debugging, but are not in the final program. Like print statements that make it clear what is happening. \n",
    "- 1. Start with a program that you know will work and make smalle incremental changes. This will help you know where an error is.\n",
    "- 2. Use variables to hold intermediate values so you can display and check them. "
   ]
  },
  {
   "cell_type": "markdown",
   "metadata": {},
   "source": [
    "- We can return the boolean value of a condition by returning that statement"
   ]
  },
  {
   "cell_type": "code",
   "execution_count": 3,
   "metadata": {},
   "outputs": [],
   "source": [
    "def am_i_cool_yet(name=\"cool pants\"):\n",
    "    return \"cool\" in name"
   ]
  },
  {
   "cell_type": "code",
   "execution_count": 4,
   "metadata": {},
   "outputs": [
    {
     "data": {
      "text/plain": [
       "True"
      ]
     },
     "execution_count": 4,
     "metadata": {},
     "output_type": "execute_result"
    }
   ],
   "source": [
    "am_i_cool_yet(\"cooleo\")"
   ]
  },
  {
   "cell_type": "markdown",
   "metadata": {},
   "source": [
    "- Leap of faith is when you assume that a function works correctly, without following the flow of execution all the way through. This helps when you have code that has a lot of function calls\n",
    "- Factorials, n! is the product of all the positive integers less than or equal to n. \n",
    "- Fibonacci numbers are sequence of numbers where each number is the sum of the two preceding numbers. Such that the first number is 0 and 1.\n",
    "- For recursive problems, ask what are you trying to return at this value. While being able to use the function that you are trying to define. "
   ]
  },
  {
   "cell_type": "code",
   "execution_count": 16,
   "metadata": {},
   "outputs": [],
   "source": [
    "def factorial(n):\n",
    "    if n <= 0:\n",
    "        #the base case that does not make a recursive call\n",
    "        return 1\n",
    "    else:\n",
    "        #what we want is to get n * (n-1)!\n",
    "        return n * factorial(n-1)"
   ]
  },
  {
   "cell_type": "code",
   "execution_count": 17,
   "metadata": {
    "scrolled": true
   },
   "outputs": [
    {
     "name": "stdout",
     "output_type": "stream",
     "text": [
      "6\n"
     ]
    }
   ],
   "source": [
    "print(factorial(3))"
   ]
  },
  {
   "cell_type": "code",
   "execution_count": 26,
   "metadata": {},
   "outputs": [],
   "source": [
    "def fibonacchi(n):\n",
    "    if n == 0:\n",
    "        #base care\n",
    "        return 0\n",
    "    elif n == 1:\n",
    "        #base case\n",
    "        return 1\n",
    "    else: \n",
    "        #we are finding the fibonacchi value of n - 2, and n - 1\n",
    "        # Fn = Fn-2 + Fn-1 for n > 1\n",
    "        #i.e. if n = 2, then we want F1 + F0. Which is just 1 + 0. \n",
    "        #Everything else is just building off of that.  \n",
    "        return fibonacchi(n - 2) + fibonacchi(n - 1) "
   ]
  },
  {
   "cell_type": "code",
   "execution_count": 25,
   "metadata": {
    "scrolled": true
   },
   "outputs": [
    {
     "data": {
      "text/plain": [
       "34"
      ]
     },
     "execution_count": 25,
     "metadata": {},
     "output_type": "execute_result"
    }
   ],
   "source": [
    "fibonacchi(9)"
   ]
  },
  {
   "cell_type": "markdown",
   "metadata": {},
   "source": [
    "- We can check if a variable is of a certain type with, `isinstance`"
   ]
  },
  {
   "cell_type": "code",
   "execution_count": 1,
   "metadata": {
    "scrolled": true
   },
   "outputs": [
    {
     "data": {
      "text/plain": [
       "True"
      ]
     },
     "execution_count": 1,
     "metadata": {},
     "output_type": "execute_result"
    }
   ],
   "source": [
    "isinstance(\"I'm a string!\", str)"
   ]
  },
  {
   "cell_type": "markdown",
   "metadata": {},
   "source": [
    "Reasons that a function is not working as intended:\n",
    "- There is something wrong with the argument that is being inputted. **Precondition**\n",
    "    - Use `print` statements to check the value/type or have conditionals that check\n",
    "- There is something wrong with the function itself **Postcondition**\n",
    "    - Try checking the result by hand or print what's supposed to be returned\n",
    "- There is something wrong with how the function is being used. "
   ]
  },
  {
   "cell_type": "code",
   "execution_count": null,
   "metadata": {},
   "outputs": [],
   "source": [
    "    print(\" \" * 4 * len(sacrifice) + sacrifice)\n"
   ]
  },
  {
   "cell_type": "code",
   "execution_count": 29,
   "metadata": {},
   "outputs": [],
   "source": [
    "def count_down(n):\n",
    "    space = \" \" * 4 * n\n",
    "    print(space, \"count down: \", n)\n",
    "    if n == 0: \n",
    "        print(\"returning: 0\")\n",
    "        return 0\n",
    "    else:\n",
    "        turn = count_down(n - 1) \n",
    "        result = n - 1\n",
    "        print(space, \"returning: \", result)\n",
    "        return result"
   ]
  },
  {
   "cell_type": "code",
   "execution_count": 30,
   "metadata": {},
   "outputs": [
    {
     "name": "stdout",
     "output_type": "stream",
     "text": [
      "                     count down:  5\n",
      "                 count down:  4\n",
      "             count down:  3\n",
      "         count down:  2\n",
      "     count down:  1\n",
      " count down:  0\n",
      "returning: 0\n",
      "     returning:  0\n",
      "         returning:  1\n",
      "             returning:  2\n",
      "                 returning:  3\n",
      "                     returning:  4\n"
     ]
    },
    {
     "data": {
      "text/plain": [
       "4"
      ]
     },
     "execution_count": 30,
     "metadata": {},
     "output_type": "execute_result"
    }
   ],
   "source": [
    "count_down(5)"
   ]
  },
  {
   "cell_type": "markdown",
   "metadata": {},
   "source": [
    "# For future studies"
   ]
  },
  {
   "cell_type": "markdown",
   "metadata": {},
   "source": [
    "### Chapter 15 Classes and Objects"
   ]
  },
  {
   "cell_type": "markdown",
   "metadata": {},
   "source": [
    "Defining a class"
   ]
  },
  {
   "cell_type": "code",
   "execution_count": 3,
   "metadata": {},
   "outputs": [],
   "source": [
    "`class Point():\n",
    "    \"\"\"Represents a point in 2-D space.\"\"\""
   ]
  },
  {
   "cell_type": "markdown",
   "metadata": {},
   "source": [
    "Instantiate a class"
   ]
  },
  {
   "cell_type": "code",
   "execution_count": null,
   "metadata": {},
   "outputs": [],
   "source": [
    "blank = Point()"
   ]
  },
  {
   "cell_type": "markdown",
   "metadata": {},
   "source": [
    "Assigning Attributes"
   ]
  },
  {
   "cell_type": "code",
   "execution_count": null,
   "metadata": {},
   "outputs": [],
   "source": [
    "blank.x = 3.0\n",
    "blank.y = 4.0"
   ]
  },
  {
   "cell_type": "markdown",
   "metadata": {},
   "source": [
    "Instances as Arguments"
   ]
  },
  {
   "cell_type": "code",
   "execution_count": null,
   "metadata": {},
   "outputs": [],
   "source": [
    "def print_point(p):\n",
    "    print(\"(%g, %g)\" % (p.x, p.y))"
   ]
  },
  {
   "cell_type": "code",
   "execution_count": null,
   "metadata": {
    "scrolled": true
   },
   "outputs": [],
   "source": [
    "print_point(blank)"
   ]
  },
  {
   "cell_type": "code",
   "execution_count": null,
   "metadata": {},
   "outputs": [],
   "source": [
    "def distance_between_points(point_1, point_2):\n",
    "    x_distance = point_2.x - point_1.x\n",
    "    y_distance = point_2.y - point_1.y\n",
    "    return (x_distance ** 2 + y_distance ** 2) ** 0.5"
   ]
  },
  {
   "cell_type": "code",
   "execution_count": null,
   "metadata": {},
   "outputs": [],
   "source": [
    "origin = Point()\n",
    "origin.x = 0.0\n",
    "origin.y = 0.0"
   ]
  },
  {
   "cell_type": "code",
   "execution_count": null,
   "metadata": {},
   "outputs": [],
   "source": [
    "distance_between_points(blank, origin)"
   ]
  },
  {
   "cell_type": "markdown",
   "metadata": {},
   "source": [
    "Rectangle Example"
   ]
  },
  {
   "cell_type": "code",
   "execution_count": null,
   "metadata": {},
   "outputs": [],
   "source": [
    "class Rectangle():\n",
    "    \"\"\"Represents a rectangle.\n",
    "    \n",
    "    attribute: width, height, corner.\"\"\""
   ]
  },
  {
   "cell_type": "code",
   "execution_count": null,
   "metadata": {},
   "outputs": [],
   "source": [
    "box = Rectangle()\n",
    "box.width = 100.0\n",
    "box.height = 200.0\n",
    "box.corner = Point()\n",
    "box.corner.x = 0.0\n",
    "box.corner.y = 0.0"
   ]
  },
  {
   "cell_type": "markdown",
   "metadata": {},
   "source": [
    "Instances as Return Values"
   ]
  },
  {
   "cell_type": "code",
   "execution_count": null,
   "metadata": {},
   "outputs": [],
   "source": [
    "def find_center(rect):\n",
    "    p = Point()\n",
    "    p.x = rect.corner.x + rect.width / 2\n",
    "    p.y = rect.corner.y + rect.height / 2\n",
    "    return p"
   ]
  },
  {
   "cell_type": "code",
   "execution_count": null,
   "metadata": {},
   "outputs": [],
   "source": [
    "center = find_center(box)\n",
    "print_point(center)"
   ]
  },
  {
   "cell_type": "markdown",
   "metadata": {},
   "source": [
    "Objects are Mutable"
   ]
  },
  {
   "cell_type": "code",
   "execution_count": null,
   "metadata": {},
   "outputs": [],
   "source": [
    "def grow_rectangle(rect, dwidth, dheight):\n",
    "    rect.width += dwidth\n",
    "    rect.height += dheight"
   ]
  },
  {
   "cell_type": "code",
   "execution_count": null,
   "metadata": {},
   "outputs": [],
   "source": [
    "box.width, box.height"
   ]
  },
  {
   "cell_type": "code",
   "execution_count": null,
   "metadata": {},
   "outputs": [],
   "source": [
    "grow_rectangle(box, 50, 100)\n",
    "box.width, box.height"
   ]
  },
  {
   "cell_type": "code",
   "execution_count": null,
   "metadata": {},
   "outputs": [],
   "source": [
    "def move_rectangle(rect, dx, dy):\n",
    "    rect.corner.x += dx\n",
    "    rect.corner.y += dy"
   ]
  },
  {
   "cell_type": "code",
   "execution_count": null,
   "metadata": {},
   "outputs": [],
   "source": [
    "box.corner.x, box.corner.y"
   ]
  },
  {
   "cell_type": "code",
   "execution_count": null,
   "metadata": {},
   "outputs": [],
   "source": [
    "move_rectangle(box, 50, 100)\n",
    "box.corner.x, box.corner.y"
   ]
  },
  {
   "cell_type": "markdown",
   "metadata": {},
   "source": [
    "Copying"
   ]
  },
  {
   "cell_type": "code",
   "execution_count": null,
   "metadata": {},
   "outputs": [],
   "source": [
    "import copy"
   ]
  },
  {
   "cell_type": "code",
   "execution_count": null,
   "metadata": {},
   "outputs": [],
   "source": [
    "p1 = Point()\n",
    "p1.x = 3.0\n",
    "p1.y = 4.0"
   ]
  },
  {
   "cell_type": "markdown",
   "metadata": {},
   "source": [
    "Shallow Copy"
   ]
  },
  {
   "cell_type": "code",
   "execution_count": null,
   "metadata": {},
   "outputs": [],
   "source": [
    "p2 = copy.copy(p1)"
   ]
  },
  {
   "cell_type": "code",
   "execution_count": null,
   "metadata": {},
   "outputs": [],
   "source": [
    "print_point(p1)"
   ]
  },
  {
   "cell_type": "code",
   "execution_count": null,
   "metadata": {
    "scrolled": true
   },
   "outputs": [],
   "source": [
    "print_point(p2)"
   ]
  },
  {
   "cell_type": "code",
   "execution_count": null,
   "metadata": {},
   "outputs": [],
   "source": [
    "p1 is p2"
   ]
  },
  {
   "cell_type": "code",
   "execution_count": null,
   "metadata": {},
   "outputs": [],
   "source": [
    "# == is the same as the \"is\" operator for programmer defined objects until we define it otherwise\n",
    "p1 == p2"
   ]
  },
  {
   "cell_type": "code",
   "execution_count": null,
   "metadata": {},
   "outputs": [],
   "source": [
    "box2 = copy.copy(box)"
   ]
  },
  {
   "cell_type": "code",
   "execution_count": null,
   "metadata": {},
   "outputs": [],
   "source": [
    "box2 is box"
   ]
  },
  {
   "cell_type": "code",
   "execution_count": null,
   "metadata": {},
   "outputs": [],
   "source": [
    "#copy.copy copies the objects and it's references, but not the embedded objects\n",
    "box2.corner is box.corner"
   ]
  },
  {
   "cell_type": "markdown",
   "metadata": {},
   "source": [
    "Deep Copy"
   ]
  },
  {
   "cell_type": "code",
   "execution_count": null,
   "metadata": {},
   "outputs": [],
   "source": [
    "box3 = copy.deepcopy(box)"
   ]
  },
  {
   "cell_type": "code",
   "execution_count": null,
   "metadata": {},
   "outputs": [],
   "source": [
    "box3 is box"
   ]
  },
  {
   "cell_type": "code",
   "execution_count": null,
   "metadata": {},
   "outputs": [],
   "source": [
    "#copy.deepcopy copies the object, object it refers to, and embedded objects\n",
    "box3.corner is box.corner"
   ]
  },
  {
   "cell_type": "markdown",
   "metadata": {},
   "source": [
    "Debugging"
   ]
  },
  {
   "cell_type": "code",
   "execution_count": null,
   "metadata": {},
   "outputs": [],
   "source": [
    "p = Point()\n",
    "p.x = 3\n",
    "p.y = 4"
   ]
  },
  {
   "cell_type": "code",
   "execution_count": null,
   "metadata": {},
   "outputs": [],
   "source": [
    "#if you want to know what type an object is\n",
    "type(p)"
   ]
  },
  {
   "cell_type": "code",
   "execution_count": null,
   "metadata": {},
   "outputs": [],
   "source": [
    "#to check if an instance is of a class\n",
    "isinstance(p, Point)"
   ]
  },
  {
   "cell_type": "code",
   "execution_count": null,
   "metadata": {},
   "outputs": [],
   "source": [
    "#to check if an instance has a specific attribute\n",
    "hasattr(p, \"x\")"
   ]
  },
  {
   "cell_type": "code",
   "execution_count": null,
   "metadata": {},
   "outputs": [],
   "source": [
    "hasattr(p, \"z\")"
   ]
  },
  {
   "cell_type": "code",
   "execution_count": null,
   "metadata": {},
   "outputs": [],
   "source": [
    "#to check if an instance has an attribute, if not then assigns one\n",
    "try:\n",
    "    z = p.z\n",
    "except AttributeError:\n",
    "    z = 0"
   ]
  },
  {
   "cell_type": "code",
   "execution_count": null,
   "metadata": {},
   "outputs": [],
   "source": [
    "z"
   ]
  },
  {
   "cell_type": "markdown",
   "metadata": {},
   "source": [
    "### Chapter 16 Classes and Functions"
   ]
  },
  {
   "cell_type": "markdown",
   "metadata": {},
   "source": [
    "Time"
   ]
  },
  {
   "cell_type": "code",
   "execution_count": null,
   "metadata": {},
   "outputs": [],
   "source": [
    "class Time:\n",
    "    \"\"\"Represents the time of day. \n",
    "    \n",
    "    attributes: hour, minute, second\"\"\""
   ]
  },
  {
   "cell_type": "code",
   "execution_count": null,
   "metadata": {},
   "outputs": [],
   "source": [
    "def print_time(t):\n",
    "    print(\"%.2d:%.2d:%.2d\" % (t.hour, t.minute, t.second))"
   ]
  },
  {
   "cell_type": "code",
   "execution_count": null,
   "metadata": {},
   "outputs": [],
   "source": [
    "time = Time()\n",
    "time.hour = 11\n",
    "time.minute = 59\n",
    "time.second = 30"
   ]
  },
  {
   "cell_type": "code",
   "execution_count": null,
   "metadata": {},
   "outputs": [],
   "source": [
    "print_time(time)"
   ]
  },
  {
   "cell_type": "code",
   "execution_count": null,
   "metadata": {},
   "outputs": [],
   "source": [
    "def is_after(t1,t2):\n",
    "    #tuples are compared position by position\n",
    "    return (t1.hour, t1.minute, t1.second) > (t2.hour, t2.minute, t2.second)"
   ]
  },
  {
   "cell_type": "code",
   "execution_count": null,
   "metadata": {},
   "outputs": [],
   "source": [
    "time_2 = Time()\n",
    "time_2.hour = 12\n",
    "time_2.minute = 0\n",
    "time_2.second = 0"
   ]
  },
  {
   "cell_type": "code",
   "execution_count": null,
   "metadata": {},
   "outputs": [],
   "source": [
    "is_after(time_2, time)"
   ]
  },
  {
   "cell_type": "markdown",
   "metadata": {},
   "source": [
    "Pure Functions"
   ]
  },
  {
   "cell_type": "markdown",
   "metadata": {},
   "source": [
    "- Does not modify any of the objects passed to it as arguments and it has no effect other than returning a value"
   ]
  },
  {
   "cell_type": "code",
   "execution_count": null,
   "metadata": {},
   "outputs": [],
   "source": [
    "def add_time(t1, t2):\n",
    "    sum = Time()\n",
    "    sum.hour = t1.hour + t2.hour\n",
    "    sum.minute = t1.minute + t2.minute    \n",
    "    sum.second = t1.second + t2.second\n",
    "    \n",
    "    if sum.second >= 60:\n",
    "        sum.second -= 60\n",
    "        sum.minute += 1\n",
    "    \n",
    "    if sum.minute >= 60:\n",
    "        sum.minute -= 60\n",
    "        sum.hour += 1\n",
    "    \n",
    "    return sum"
   ]
  },
  {
   "cell_type": "code",
   "execution_count": null,
   "metadata": {},
   "outputs": [],
   "source": [
    "total_time = add_time(time, time_2)\n",
    "print_time(total_time)"
   ]
  },
  {
   "cell_type": "markdown",
   "metadata": {},
   "source": [
    "Modifies"
   ]
  },
  {
   "cell_type": "markdown",
   "metadata": {},
   "source": [
    "- Modifies the object it gets as a parameter"
   ]
  },
  {
   "cell_type": "code",
   "execution_count": null,
   "metadata": {},
   "outputs": [],
   "source": [
    "def increment(t1, seconds):\n",
    "    \"\"\"Adds seconds to a Time object.\"\"\"\n",
    "    assert valid_time(t1)\n",
    "    seconds += time_to_int(t1)\n",
    "    return int_to_time(seconds)"
   ]
  },
  {
   "cell_type": "markdown",
   "metadata": {},
   "source": [
    "Functional Programming Style"
   ]
  },
  {
   "cell_type": "markdown",
   "metadata": {},
   "source": [
    "- Write pure functions whenever it is reasonable, and only resort to modifiers only if there is a compelling advantage"
   ]
  },
  {
   "cell_type": "markdown",
   "metadata": {},
   "source": [
    "**Invariants**: something that should always be true of a program"
   ]
  },
  {
   "cell_type": "markdown",
   "metadata": {},
   "source": [
    "- **assert statement**: checks given invariant and raises an exception if it fails\n",
    "- https://www.programiz.com/python-programming/assert-statement"
   ]
  },
  {
   "cell_type": "markdown",
   "metadata": {},
   "source": [
    "### Chapter 17 Classes and Methods"
   ]
  },
  {
   "cell_type": "markdown",
   "metadata": {},
   "source": [
    "- **method**: function that is associated with a particular class. They are defined inside a class definition. "
   ]
  },
  {
   "cell_type": "code",
   "execution_count": null,
   "metadata": {},
   "outputs": [],
   "source": [
    "class Time():\n",
    "    \"\"\"Represents the time of day\"\"\"\n",
    "    def print_time(self):\n",
    "        print(\"%.2d:%.2d:%.2d\" % (self.hour, self.minute, self.second))"
   ]
  },
  {
   "cell_type": "markdown",
   "metadata": {},
   "source": [
    "- print_time is the method, start is the object that the method is invoked on(or the subject)\n",
    "- the subject is assigned to the first parameter(in this case, start is assigned to self) \n",
    "- the objects are the active agents, for start.print_time -> \"Hey start! Print yourself!\""
   ]
  },
  {
   "cell_type": "code",
   "execution_count": null,
   "metadata": {},
   "outputs": [],
   "source": [
    "start = Time()\n",
    "start.hour = 9\n",
    "start.minute = 45\n",
    "start.second = 00"
   ]
  },
  {
   "cell_type": "code",
   "execution_count": null,
   "metadata": {},
   "outputs": [],
   "source": [
    "start.print_time()"
   ]
  },
  {
   "cell_type": "markdown",
   "metadata": {},
   "source": [
    "The ``__init__`` method"
   ]
  },
  {
   "cell_type": "markdown",
   "metadata": {},
   "source": [
    "- ``__init__`` gets invoked when an object is instantiated\n",
    "- The parameters of ``__init__`` should have the same names as the attributes"
   ]
  },
  {
   "cell_type": "code",
   "execution_count": null,
   "metadata": {},
   "outputs": [],
   "source": [
    "class Point():\n",
    "    \"\"\"Represents a point in 2-D space.\"\"\"\n",
    "    def __init__(self, x=0, y=0):\n",
    "        self.x = x\n",
    "        self.y = y"
   ]
  },
  {
   "cell_type": "code",
   "execution_count": null,
   "metadata": {},
   "outputs": [],
   "source": [
    "new_point = Point()\n",
    "print(new_point.x, new_point.y)"
   ]
  },
  {
   "cell_type": "markdown",
   "metadata": {},
   "source": [
    "The ``__str__`` method"
   ]
  },
  {
   "cell_type": "markdown",
   "metadata": {},
   "source": [
    "-  ``__str__`` returns a string representation of an object"
   ]
  },
  {
   "cell_type": "code",
   "execution_count": null,
   "metadata": {},
   "outputs": [],
   "source": [
    "class Point():\n",
    "    \"\"\"Represents a point in 2-D space.\"\"\"\n",
    "    def __init__(self, x=0, y=0):\n",
    "        self.x = x\n",
    "        self.y = y\n",
    "    \n",
    "    def __str__(self):\n",
    "        return '({}, {})'.format(self.x, self.y)"
   ]
  },
  {
   "cell_type": "code",
   "execution_count": null,
   "metadata": {},
   "outputs": [],
   "source": [
    "newer_point = Point(1,2)\n",
    "print(newer_point)"
   ]
  },
  {
   "cell_type": "markdown",
   "metadata": {},
   "source": [
    "Operator Overloading"
   ]
  },
  {
   "cell_type": "markdown",
   "metadata": {},
   "source": [
    "- Changing the behvaior of an operator so that it works for programmer defined objects"
   ]
  },
  {
   "cell_type": "code",
   "execution_count": null,
   "metadata": {},
   "outputs": [],
   "source": [
    "class Point():\n",
    "    \"\"\"Represents a point in 2-D space.\"\"\"\n",
    "    def __init__(self, x=0, y=0):\n",
    "        self.x = x\n",
    "        self.y = y\n",
    "    \n",
    "    def __str__(self):\n",
    "        return '({}, {})'.format(self.x, self.y)\n",
    "    \n",
    "    def __add__(self, other):\n",
    "        sum = Point()\n",
    "        sum.x = self.x + other.x\n",
    "        sum.y = self.y + other.y\n",
    "        return sum"
   ]
  },
  {
   "cell_type": "code",
   "execution_count": null,
   "metadata": {},
   "outputs": [],
   "source": [
    "point_1 = Point(1,2)\n",
    "point_2 = Point(3,4)\n",
    "print(point_1 + point_2)"
   ]
  },
  {
   "cell_type": "markdown",
   "metadata": {},
   "source": [
    "Type Based Dispatch"
   ]
  },
  {
   "cell_type": "markdown",
   "metadata": {},
   "source": [
    "- Changing the computation to a different method based on the type of argument"
   ]
  },
  {
   "cell_type": "code",
   "execution_count": null,
   "metadata": {},
   "outputs": [],
   "source": [
    "class Point():\n",
    "    \"\"\"Represents a point in 2-D space.\"\"\"\n",
    "    def __init__(self, x=0, y=0):\n",
    "        self.x = x\n",
    "        self.y = y\n",
    "    \n",
    "    def __str__(self):\n",
    "        return '({}, {})'.format(self.x, self.y)\n",
    "    \n",
    "    def __add__(self, other):\n",
    "        sum = Point()\n",
    "        if isinstance(other, Point):\n",
    "            sum.x = self.x + other.x\n",
    "            sum.y = self.y + other.y\n",
    "            return sum\n",
    "        else: \n",
    "            sum.x = self.x + other[0]\n",
    "            sum.y = self.y + other[1]\n",
    "            return sum\n",
    "\n",
    "    #right side add\n",
    "    def __radd__(self, other):\n",
    "        return self.__add__(other)"
   ]
  },
  {
   "cell_type": "code",
   "execution_count": null,
   "metadata": {},
   "outputs": [],
   "source": [
    "point_1 = Point(1,2)"
   ]
  },
  {
   "cell_type": "code",
   "execution_count": null,
   "metadata": {},
   "outputs": [],
   "source": [
    "print(point_1 + (2,3))"
   ]
  },
  {
   "cell_type": "code",
   "execution_count": null,
   "metadata": {},
   "outputs": [],
   "source": [
    "print((2,3) + point_1)"
   ]
  },
  {
   "cell_type": "markdown",
   "metadata": {},
   "source": [
    "Debugging"
   ]
  },
  {
   "cell_type": "markdown",
   "metadata": {},
   "source": [
    "- Access attributes with the built in function ``vars()``, that takes an object and returns a dictionary of attribute names to their values"
   ]
  },
  {
   "cell_type": "code",
   "execution_count": null,
   "metadata": {},
   "outputs": [],
   "source": [
    "vars(point_1)"
   ]
  },
  {
   "cell_type": "code",
   "execution_count": null,
   "metadata": {},
   "outputs": [],
   "source": [
    "getattr(point_1, \"x\")"
   ]
  },
  {
   "cell_type": "code",
   "execution_count": null,
   "metadata": {},
   "outputs": [],
   "source": [
    "def print_attributes(obj):\n",
    "    \"\"\"Prints each attribute name and it's corresponding value for a given object\"\"\"\n",
    "    #iterates through the vars attributes dictionary\n",
    "    for attr in vars(obj):\n",
    "        #attr is the attribute\n",
    "        #getattr(obj, attr) is the value\n",
    "        print(attr, getattr(obj, attr))"
   ]
  },
  {
   "cell_type": "code",
   "execution_count": null,
   "metadata": {},
   "outputs": [],
   "source": [
    "print_attributes(point_1)"
   ]
  },
  {
   "cell_type": "markdown",
   "metadata": {},
   "source": [
    "### Chapter 18 Inheritence ###"
   ]
  },
  {
   "cell_type": "code",
   "execution_count": null,
   "metadata": {},
   "outputs": [],
   "source": []
  }
 ],
 "metadata": {
  "kernelspec": {
   "display_name": "Python 3",
   "language": "python",
   "name": "python3"
  },
  "language_info": {
   "codemirror_mode": {
    "name": "ipython",
    "version": 3
   },
   "file_extension": ".py",
   "mimetype": "text/x-python",
   "name": "python",
   "nbconvert_exporter": "python",
   "pygments_lexer": "ipython3",
   "version": "3.7.7"
  }
 },
 "nbformat": 4,
 "nbformat_minor": 2
}
