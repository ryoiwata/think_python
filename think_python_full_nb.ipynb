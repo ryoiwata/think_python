{
 "cells": [
  {
   "cell_type": "markdown",
   "metadata": {},
   "source": [
    "- Code solutions/Resources\n",
    "http://greenteapress.com/thinkpython2/code/"
   ]
  },
  {
   "cell_type": "markdown",
   "metadata": {},
   "source": [
    "# Chapter 1: The Way of the Program"
   ]
  },
  {
   "cell_type": "markdown",
   "metadata": {},
   "source": [
    "**Program** is a sequence of instructions that specifies how to perform a computation"
   ]
  },
  {
   "cell_type": "markdown",
   "metadata": {},
   "source": [
    "- **input** is the data that the program gets from a file, keyboard, network, etc.\n",
    "- **outout** is the data that the program returns on the screen, to a file, network, etc\n",
    "- **math** is math\n",
    "- **conditional execution** is checking for a condition and running code based off of that\n",
    "- **repitition** is performing some action repeatedly"
   ]
  },
  {
   "cell_type": "markdown",
   "metadata": {},
   "source": [
    "- **value** is what the program works with. i.e. 420, 69.0, herro\n",
    "- **type** is a category of a value"
   ]
  },
  {
   "cell_type": "markdown",
   "metadata": {},
   "source": [
    "- **formal language** is a language created for a specific purpose. Such as math formulas or chemical reactions.\n",
    "- **syntax** is how the statements are allowed to be structured. \n",
    "- **token** is the basic unit of the language. Can be words, a number, a sign, etc. "
   ]
  },
  {
   "cell_type": "markdown",
   "metadata": {},
   "source": [
    "# Chapter 2: Values, Expressions, and Statements"
   ]
  },
  {
   "cell_type": "markdown",
   "metadata": {},
   "source": [
    "# Chapter 3: Functions"
   ]
  },
  {
   "cell_type": "markdown",
   "metadata": {},
   "source": [
    "- **function** is a named sequence of statements that perform a computation\n",
    "- **argument** is the values in the parentheses of a function.\n",
    "- The function takes an argument and returns a return value"
   ]
  },
  {
   "cell_type": "markdown",
   "metadata": {},
   "source": [
    "- **module** is a file that contains related functions\n",
    "- To use the functions in a module, we must import it with the import statement\n",
    "    - `import antigravity`"
   ]
  },
  {
   "cell_type": "code",
   "execution_count": null,
   "metadata": {},
   "outputs": [],
   "source": [
    "import antigravity"
   ]
  },
  {
   "cell_type": "markdown",
   "metadata": {},
   "source": [
    "- This creates a module object named after the module.  \n",
    "    - `>>> antigravity`\n",
    "    - `<module 'antigravity' from '/mnt/c/Users/ryoi3/Programming/conda_env/lib/python3.7/antigravity.py'>`"
   ]
  },
  {
   "cell_type": "code",
   "execution_count": null,
   "metadata": {},
   "outputs": [],
   "source": [
    "antigravity"
   ]
  },
  {
   "cell_type": "markdown",
   "metadata": {},
   "source": [
    "- The module object contains the functions and variables defined in the variable. To access these, specifiy the name of the module object and the name of the function seperated by a dot. This is called **dot notation**\n",
    "    - `antigravity.webbrowser.Chrome`"
   ]
  },
  {
   "cell_type": "code",
   "execution_count": null,
   "metadata": {
    "scrolled": true
   },
   "outputs": [],
   "source": [
    "antigravity.webbrowser.Chrome"
   ]
  },
  {
   "cell_type": "markdown",
   "metadata": {},
   "source": [
    "- The argument of a function can be any kind of expression. Even function calls. \n",
    "    - `statistics.mean([random.randrange(0,3), random.randrange(0,100), random.randrange(0,1000)])`"
   ]
  },
  {
   "cell_type": "code",
   "execution_count": null,
   "metadata": {},
   "outputs": [],
   "source": [
    "import random\n",
    "import statistics"
   ]
  },
  {
   "cell_type": "code",
   "execution_count": null,
   "metadata": {
    "scrolled": true
   },
   "outputs": [],
   "source": [
    "statistics.mean([random.randrange(0,3), random.randrange(0,100), random.randrange(0,1000)])"
   ]
  },
  {
   "cell_type": "markdown",
   "metadata": {},
   "source": [
    "- **function definition** specifies the name of the function and the sequence of statemens that run when the function is called\n",
    "- Empty parentheses after the name means the function doesn't take arguments\n",
    "- The first line is called the header, and the rest is the body. The body is indented. "
   ]
  },
  {
   "cell_type": "code",
   "execution_count": null,
   "metadata": {},
   "outputs": [],
   "source": [
    "def someone_who_cares():\n",
    "    feelings = input(\"What are you feeling? \")\n",
    "    print(\"Ah, I see that you are feeling \" + feelings)\n",
    "    while True:\n",
    "        consent = input(\"Would you like to talk about it? \")\n",
    "        if consent != \"no\":\n",
    "            new_feelings = input(\"Let's talk! What are you feeling now? \")\n",
    "            print(\"Ah, I see that you are feeling \" + new_feelings)\n",
    "        else:\n",
    "            print(\"Thank you for talking with me :)\")\n",
    "            break    "
   ]
  },
  {
   "cell_type": "markdown",
   "metadata": {},
   "source": [
    "- Defining a function creates a function object. The function is called with the function name followed by parentheses and the arguments."
   ]
  },
  {
   "cell_type": "code",
   "execution_count": null,
   "metadata": {},
   "outputs": [],
   "source": [
    "print(someone_who_cares)"
   ]
  },
  {
   "cell_type": "code",
   "execution_count": null,
   "metadata": {},
   "outputs": [],
   "source": [
    "type(someone_who_cares)"
   ]
  },
  {
   "cell_type": "code",
   "execution_count": null,
   "metadata": {
    "scrolled": true
   },
   "outputs": [],
   "source": [
    "someone_who_cares()"
   ]
  },
  {
   "cell_type": "markdown",
   "metadata": {},
   "source": [
    "- You can use functions inside another function"
   ]
  },
  {
   "cell_type": "code",
   "execution_count": null,
   "metadata": {},
   "outputs": [],
   "source": [
    "def two_people_who_care():\n",
    "    print(\"Hi! I'm person #1!\")\n",
    "    someone_who_cares()\n",
    "    print(\"Hello! I'm person #2!\")\n",
    "    someone_who_cares()"
   ]
  },
  {
   "cell_type": "code",
   "execution_count": null,
   "metadata": {
    "scrolled": true
   },
   "outputs": [],
   "source": [
    "two_people_who_care()"
   ]
  },
  {
   "cell_type": "markdown",
   "metadata": {},
   "source": [
    "- Function definition created a function object, but the statements inside the function are not run until it is called. There's no output as well. \n",
    "- You have to create a function before you call it\n",
    "- There is a flow of execution in a program starts at the first statement and runs one at a time. From top to bottom. Function calls return to the body where the function is defined, runs that. And then picks up where it was left off. "
   ]
  },
  {
   "cell_type": "markdown",
   "metadata": {},
   "source": [
    "- Inside a function, an argument is assigned to a variable called the **parameter**\n",
    "- You can use variables or other function calls as arguments to be stored as parameters"
   ]
  },
  {
   "cell_type": "code",
   "execution_count": null,
   "metadata": {},
   "outputs": [],
   "source": [
    "def reverse_repeater(phrase):\n",
    "    reverse_phrase = phrase[::-1]\n",
    "    return(reverse_phrase)"
   ]
  },
  {
   "cell_type": "code",
   "execution_count": null,
   "metadata": {
    "scrolled": true
   },
   "outputs": [],
   "source": [
    "reverse_repeater(\"hello world\")"
   ]
  },
  {
   "cell_type": "code",
   "execution_count": null,
   "metadata": {
    "scrolled": true
   },
   "outputs": [],
   "source": [
    "reverse_repeater([\"can\", \"we\", \"still\", \"be\", \"friends?\"] * 3)"
   ]
  },
  {
   "cell_type": "markdown",
   "metadata": {},
   "source": [
    "- In a function, variables and parameters are local to the function. You can not use the variables outside of the function unless if you return the variable as an output or store it"
   ]
  },
  {
   "cell_type": "code",
   "execution_count": null,
   "metadata": {
    "scrolled": false
   },
   "outputs": [],
   "source": [
    "#phrase variable is in the function reverse repeater but can't be called outside of it\n",
    "\n",
    "print(phrase)"
   ]
  },
  {
   "cell_type": "markdown",
   "metadata": {},
   "source": [
    "- To keep track of variables you can use a stack diagram. Shows the value of each variable and what function it belongs to.\n",
    "- Each function is represented by a frame which has the parameters/variables associated with it\n",
    "- The top frame calls the one below it, and that one calls the one below it and so on. The topmost frame is called `_main_` and all the variables created outside of functions belong to it\n",
    "- Each parameter refers to the same value as its corresponding argument. "
   ]
  },
  {
   "cell_type": "code",
   "execution_count": null,
   "metadata": {},
   "outputs": [],
   "source": [
    "def word_wave(word):\n",
    "    for num in range(0, len(word) + 1):\n",
    "        print(word[:num])\n",
    "\n",
    "    for num in range(len(word) - 1, 0, -1):\n",
    "        print(word[:num])"
   ]
  },
  {
   "cell_type": "code",
   "execution_count": null,
   "metadata": {},
   "outputs": [],
   "source": [
    "reverse_repeater(\"This is our secret, okay?\")"
   ]
  },
  {
   "cell_type": "code",
   "execution_count": null,
   "metadata": {
    "scrolled": true
   },
   "outputs": [],
   "source": [
    "my_word = \"?yako ,terces ruo si sihT\""
   ]
  },
  {
   "cell_type": "code",
   "execution_count": null,
   "metadata": {
    "scrolled": true
   },
   "outputs": [],
   "source": [
    "word_wave(reverse_repeater(my_word))"
   ]
  },
  {
   "cell_type": "markdown",
   "metadata": {},
   "source": [
    "`__main__`\n",
    "- `my_word` >>> \"?yako ,terces ruo si sihT\"\n",
    "\n",
    "`reverse_repeater`\n",
    "- `word` >>> \"?yako ,terces ruo si sihT\"\n",
    "- `reverse_phrase` >>> \"This is our secret, okay?\"\n",
    "\n",
    "`word_wave`\n",
    "- `word` >>> \"This is our secret, okay?\""
   ]
  },
  {
   "cell_type": "markdown",
   "metadata": {},
   "source": [
    "- If there's an error that occurs when calling any function, there will be a traceback where every function that called that one will be displayed. All the way back to `__main__`\n",
    "- **fruitful functions** return a value, **void functions** do not return anything. Both can perform an action and output it on the screen as well. If you set a variable to a void function call, then you will just get `None`"
   ]
  },
  {
   "cell_type": "code",
   "execution_count": null,
   "metadata": {},
   "outputs": [],
   "source": [
    "no_var = print(\"this was supposed to be something, but it failed\")"
   ]
  },
  {
   "cell_type": "code",
   "execution_count": null,
   "metadata": {},
   "outputs": [],
   "source": [
    "type(no_var)"
   ]
  },
  {
   "cell_type": "markdown",
   "metadata": {},
   "source": [
    "- Functions allows you to name a group of statements which makes it easier to read and debug\n",
    "- Eliminates repetitive code and you only need to edit the function definition"
   ]
  },
  {
   "cell_type": "markdown",
   "metadata": {},
   "source": [
    "# Chapter 4: Case Study: Interface Design"
   ]
  },
  {
   "cell_type": "markdown",
   "metadata": {},
   "source": [
    "jupyter nbextension enable --py --sys-prefix ipyturtle"
   ]
  },
  {
   "cell_type": "code",
   "execution_count": null,
   "metadata": {},
   "outputs": [],
   "source": [
    "import turtle"
   ]
  },
  {
   "cell_type": "code",
   "execution_count": null,
   "metadata": {},
   "outputs": [],
   "source": [
    "# Leonard = turtle.Turtle()\n",
    "# print(Leonard)"
   ]
  },
  {
   "cell_type": "markdown",
   "metadata": {},
   "source": [
    "The `Turtle` function from the `turtle` module creates a Turtle object. We've assigned this object to Leonard. We're calling the actual function because it has parnethesis at the end. If not, then we would just store the function.\n",
    "- `<turtle.Turtle object at 0x000001D3221A9248>`"
   ]
  },
  {
   "cell_type": "markdown",
   "metadata": {},
   "source": [
    "We can move the Turtle object by calling a **method**. A method is a function that belongs to an object. "
   ]
  },
  {
   "cell_type": "markdown",
   "metadata": {},
   "source": [
    "Turtle Commands\n",
    "\n",
    "`Leonard.fd(100)\n",
    "Leonard.bk(100)\n",
    "Leonard.lt(90)\n",
    "Leonard.rt(90)\n",
    "Leonard.pu()\n",
    "Leonard.pd()`\n"
   ]
  },
  {
   "cell_type": "markdown",
   "metadata": {},
   "source": [
    "Creating a square\n",
    "\n",
    "`Leonard.fd(100)\n",
    "Leonard.rt(90)\n",
    "Leonard.fd(100)\n",
    "Leonard.rt(90)\n",
    "Leonard.fd(100)\n",
    "Leonard.rt(90)\n",
    "Leonard.fd(100)`"
   ]
  },
  {
   "cell_type": "markdown",
   "metadata": {},
   "source": [
    "Creating a square with a loop\n",
    "\n",
    "`for num in range(4):\n",
    "    Leonard.fd(100)\n",
    "    Leonard.rt(90)`"
   ]
  },
  {
   "cell_type": "markdown",
   "metadata": {},
   "source": [
    "Function that takes in a turtle object and creates a square.\n",
    "`def square(t):\n",
    "    for num in range(4):\n",
    "        t.fd(100)\n",
    "        t.rt(90)`"
   ]
  },
  {
   "cell_type": "markdown",
   "metadata": {},
   "source": [
    "Function that takes a turtle object, length, and number of sides\n",
    "`def polygon(t, sides=3, length=100):\n",
    "    for num in range(sides):\n",
    "        t.fd(length)\n",
    "        t.rt(360/sides)`"
   ]
  },
  {
   "cell_type": "markdown",
   "metadata": {},
   "source": [
    "- Wrapping segments of code in a function is called **encapsulation** . Attaches a name to the code and more concise to use/edit. \n",
    "- In the function, `t` can refer to any Turtle object that you use as an argument. \n",
    "- Adding a parameter that you can adjust is **generalization** because you can use it in more ways instead of a default setting. \n",
    "- **Interface** is a summary of how the function is used. What are the parameters? What does the function do? What is the return value?\n",
    "- **Refactoring** is rearranging a program to improve the interface and reuse code.If there's a more fundamental action that can be done, write a function for that so you can use it for more complicated functions. \n",
    "- **Docstring** string at the beginning of a function that explains the interface"
   ]
  },
  {
   "cell_type": "code",
   "execution_count": null,
   "metadata": {},
   "outputs": [],
   "source": [
    "Function that create a string of lines that turn at a certain angle:\n",
    "- def polyline(t, n=3, length=100, angle=60):\n",
    "    for i in range (n):\n",
    "        t.fd(length)\n",
    "        t.lt(angle)"
   ]
  },
  {
   "cell_type": "markdown",
   "metadata": {},
   "source": [
    "# Chapter 5: Conditionals and Recursion"
   ]
  },
  {
   "cell_type": "markdown",
   "metadata": {},
   "source": [
    "- **Boolean Expressions** are an exxpression that can be true or false. \n",
    "- The operater, `==` compares two operands and returns `True` if they are equal, and `False` if otherwise"
   ]
  },
  {
   "cell_type": "code",
   "execution_count": null,
   "metadata": {},
   "outputs": [],
   "source": [
    "420 == 42 * 2 * 5"
   ]
  },
  {
   "cell_type": "code",
   "execution_count": null,
   "metadata": {},
   "outputs": [],
   "source": [
    "\"left\" == \"right\""
   ]
  },
  {
   "cell_type": "code",
   "execution_count": null,
   "metadata": {
    "scrolled": true
   },
   "outputs": [],
   "source": [
    "type(True)"
   ]
  },
  {
   "cell_type": "markdown",
   "metadata": {},
   "source": [
    "Other relational operators:\n",
    "- `x != y`\n",
    "- `x > y`\n",
    "- `x < y`\n",
    "- `x >= y`\n",
    "- `x <= y`"
   ]
  },
  {
   "cell_type": "markdown",
   "metadata": {},
   "source": [
    "- `and` is true when both conditions are `True`\n",
    "- `or` is true when at least one condition is `True`\n",
    "- `not` negates the expression, so `not(7 > 8) would return `True` and `not(True)` would return `False`\n",
    "- Any non zero number is interpreted as `True`"
   ]
  },
  {
   "cell_type": "code",
   "execution_count": null,
   "metadata": {
    "scrolled": false
   },
   "outputs": [],
   "source": [
    "not(\"hello\" in \"bye Felicia\")"
   ]
  },
  {
   "cell_type": "code",
   "execution_count": null,
   "metadata": {},
   "outputs": [],
   "source": [
    "if 7 and 69 == 23 * 3:\n",
    "    print(\"that's the truth\")"
   ]
  },
  {
   "cell_type": "markdown",
   "metadata": {},
   "source": [
    "- **Conditional Statements** checks for a condition and changes the program behavior accordingly. \n",
    "- The boolean expresion after `if` is the **condition**. If it's `True` then indented statements run. If not then nothing happens.\n",
    "- **Alternative execution** is running a statement when a condition is not met. The alternative is called a branch because they branch off of the original flow of execution. The indented statements for `else` is run. \n",
    "- **Chained conditionals** are when there are more than two conditions for a statement to run. `elif` is an abbreviation of **else if**. Only one branch will run, but you can have as many `elif` statements as you want. `else` is not needed, but needs to be at the bottom. Each condition is checked in order. \n",
    "- **Nested conditions** are when there is a conditional statement that needs to run one way, before checking the condition of another statement. These become hard to read, so you should consider combining the conditionals into one using `and`."
   ]
  },
  {
   "cell_type": "markdown",
   "metadata": {},
   "source": [
    "- `Recursion` is when a function calls itself. "
   ]
  },
  {
   "cell_type": "code",
   "execution_count": null,
   "metadata": {},
   "outputs": [],
   "source": [
    "import random"
   ]
  },
  {
   "cell_type": "code",
   "execution_count": null,
   "metadata": {},
   "outputs": [],
   "source": [
    "\"hello\"[1:]"
   ]
  },
  {
   "cell_type": "code",
   "execution_count": null,
   "metadata": {},
   "outputs": [],
   "source": [
    "\"hello\"[:1]"
   ]
  },
  {
   "cell_type": "code",
   "execution_count": null,
   "metadata": {},
   "outputs": [],
   "source": [
    "def spiral(sacrifice=\"I'm being eaten!\"):\n",
    "    print(sacrifice)\n",
    "    if len(sacrifice):\n",
    "        random_index = random.randint(0, len(sacrifice) - 1)\n",
    "        sacrifice = sacrifice[:random_index] + sacrifice[random_index + 1:]\n",
    "        spiral(sacrifice)\n",
    "    else:\n",
    "        print(\"another one has been taken...\")\n",
    "    "
   ]
  },
  {
   "cell_type": "code",
   "execution_count": null,
   "metadata": {},
   "outputs": [],
   "source": [
    "spiral(\"Wake up late, eat some cereal Try my best to be physical Lose myself in a TV show Staring out to oblivion\")"
   ]
  },
  {
   "cell_type": "markdown",
   "metadata": {},
   "source": [
    "# Chapter 6: Fruitful Functions"
   ]
  },
  {
   "cell_type": "markdown",
   "metadata": {},
   "source": [
    "- Every function returns a value that can be stored as a variable or used in an expression.\n",
    "- If there is not `return` statement in the function, then `None` is returned. Once the `return` statement is run, then the function stops running.\n",
    "- **Sacffolding** in code is statements that help with development and debugging, but are not in the final program. Like print statements that make it clear what is happening. \n",
    "- 1. Start with a program that you know will work and make smalle incremental changes. This will help you know where an error is.\n",
    "- 2. Use variables to hold intermediate values so you can display and check them. "
   ]
  },
  {
   "cell_type": "markdown",
   "metadata": {},
   "source": [
    "- We can return the boolean value of a condition by returning that statement"
   ]
  },
  {
   "cell_type": "code",
   "execution_count": null,
   "metadata": {},
   "outputs": [],
   "source": [
    "def am_i_cool_yet(name=\"cool pants\"):\n",
    "    return \"cool\" in name"
   ]
  },
  {
   "cell_type": "code",
   "execution_count": null,
   "metadata": {},
   "outputs": [],
   "source": [
    "am_i_cool_yet(\"cooleo\")"
   ]
  },
  {
   "cell_type": "markdown",
   "metadata": {},
   "source": [
    "- Leap of faith is when you assume that a function works correctly, without following the flow of execution all the way through. This helps when you have code that has a lot of function calls\n",
    "- Factorials, n! is the product of all the positive integers less than or equal to n. \n",
    "- Fibonacci numbers are sequence of numbers where each number is the sum of the two preceding numbers. Such that the first number is 0 and 1.\n",
    "- For recursive problems, ask what are you trying to return at this value. While being able to use the function that you are trying to define. "
   ]
  },
  {
   "cell_type": "code",
   "execution_count": null,
   "metadata": {},
   "outputs": [],
   "source": [
    "def factorial(n):\n",
    "    if n <= 0:\n",
    "        #the base case that does not make a recursive call\n",
    "        return 1\n",
    "    else:\n",
    "        #what we want is to get n * (n-1)!\n",
    "        return n * factorial(n-1)"
   ]
  },
  {
   "cell_type": "code",
   "execution_count": null,
   "metadata": {
    "scrolled": true
   },
   "outputs": [],
   "source": [
    "print(factorial(3))"
   ]
  },
  {
   "cell_type": "code",
   "execution_count": null,
   "metadata": {},
   "outputs": [],
   "source": [
    "def fibonacchi(n):\n",
    "    if n == 0:\n",
    "        #base care\n",
    "        return 0\n",
    "    elif n == 1:\n",
    "        #base case\n",
    "        return 1\n",
    "    else: \n",
    "        #we are finding the fibonacchi value of n - 2, and n - 1\n",
    "        # Fn = Fn-2 + Fn-1 for n > 1\n",
    "        #i.e. if n = 2, then we want F1 + F0. Which is just 1 + 0. \n",
    "        #Everything else is just building off of that.  \n",
    "        return fibonacchi(n - 2) + fibonacchi(n - 1) "
   ]
  },
  {
   "cell_type": "code",
   "execution_count": null,
   "metadata": {
    "scrolled": true
   },
   "outputs": [],
   "source": [
    "fibonacchi(9)"
   ]
  },
  {
   "cell_type": "markdown",
   "metadata": {},
   "source": [
    "- We can check if a variable is of a certain type with, `isinstance`"
   ]
  },
  {
   "cell_type": "code",
   "execution_count": null,
   "metadata": {
    "scrolled": true
   },
   "outputs": [],
   "source": [
    "isinstance(\"I'm a string!\", str)"
   ]
  },
  {
   "cell_type": "markdown",
   "metadata": {},
   "source": [
    "Reasons that a function is not working as intended:\n",
    "- There is something wrong with the argument that is being inputted. **Precondition**\n",
    "    - Use `print` statements to check the value/type or have conditionals that check\n",
    "- There is something wrong with the function itself **Postcondition**\n",
    "    - Try checking the result by hand or print what's supposed to be returned\n",
    "- There is something wrong with how the function is being used. "
   ]
  },
  {
   "cell_type": "code",
   "execution_count": null,
   "metadata": {},
   "outputs": [],
   "source": [
    "    print(\" \" * 4 * len(sacrifice) + sacrifice)\n"
   ]
  },
  {
   "cell_type": "code",
   "execution_count": null,
   "metadata": {},
   "outputs": [],
   "source": [
    "def count_down(n):\n",
    "    space = \" \" * 4 * n\n",
    "    print(space, \"count down: \", n)\n",
    "    if n == 0: \n",
    "        print(\"returning: 0\")\n",
    "        return 0\n",
    "    else:\n",
    "        turn = count_down(n - 1) \n",
    "        result = n - 1\n",
    "        print(space, \"returning: \", result)\n",
    "        return result"
   ]
  },
  {
   "cell_type": "code",
   "execution_count": null,
   "metadata": {},
   "outputs": [],
   "source": [
    "count_down(5)"
   ]
  },
  {
   "cell_type": "markdown",
   "metadata": {},
   "source": [
    "# Chapter 7: Iteration"
   ]
  },
  {
   "cell_type": "markdown",
   "metadata": {},
   "source": [
    "- **iteration** is the ability to run a block of statements repeatedly."
   ]
  },
  {
   "cell_type": "markdown",
   "metadata": {},
   "source": [
    "- variables can be reassigned with the `=` sign. Which does not denote equality(like `==`), but instead assignment.\n",
    "- so in Python, `a = b` is not the same as `b = a`. \n",
    "- variables can be **updated** by assigning a change to itself( i.e. `x = x + 1`)"
   ]
  },
  {
   "cell_type": "markdown",
   "metadata": {},
   "source": [
    "- `while` statements repeatedly execute the statments in its body until the condition that is being checked is not true"
   ]
  },
  {
   "cell_type": "code",
   "execution_count": null,
   "metadata": {},
   "outputs": [],
   "source": [
    "import random"
   ]
  },
  {
   "cell_type": "code",
   "execution_count": null,
   "metadata": {
    "scrolled": false
   },
   "outputs": [],
   "source": [
    "number = \"\"\n",
    "while \"314\" not in number:\n",
    "    number += str(random.randint(0,9))\n",
    "print(\"I found pi in: \", number)\n",
    "print(\"And it only took: \", len(number))\n",
    "    "
   ]
  },
  {
   "cell_type": "markdown",
   "metadata": {},
   "source": [
    "- to stop iterating, you can use the `break`. This allows you to check the condition at any part of the loop and can express the stop condition affirmatively(i.e. stop when thei happens, not keep going until."
   ]
  },
  {
   "cell_type": "markdown",
   "metadata": {},
   "source": [
    "# Chapter 8: Strings"
   ]
  },
  {
   "cell_type": "markdown",
   "metadata": {},
   "source": [
    "- A string is a sequence of characters. \n",
    "- These characters can be accessed with bracket notation of the index. This is zero based indexing. \n",
    "- `len` returns the length of a string"
   ]
  },
  {
   "cell_type": "code",
   "execution_count": null,
   "metadata": {},
   "outputs": [],
   "source": [
    "len(\"I have a length of 21\")"
   ]
  },
  {
   "cell_type": "markdown",
   "metadata": {},
   "source": [
    "- Since it is zero based indexing, if we indexed with the length of the string we would be out of index.\n",
    "- So instead, use `string[-1]`. This will access the last character.\n",
    "- **Traversal** is when you have a process that goes through each character of a string and continue to the end.\n",
    "    - This can be accomplished with the `for` loop"
   ]
  },
  {
   "cell_type": "code",
   "execution_count": null,
   "metadata": {},
   "outputs": [],
   "source": [
    "for char in \"icup\":\n",
    "    print(char)"
   ]
  },
  {
   "cell_type": "markdown",
   "metadata": {},
   "source": [
    "- You can get a segment of a string through **slicing**. `string[n:m]` will return all the characters in between `n` and `m`. This includes the `n`th index, but ends right before the `m`th index\n",
    "- If you leave the first or last index of a slice empty, then all the characters before or after will be included."
   ]
  },
  {
   "cell_type": "code",
   "execution_count": null,
   "metadata": {
    "scrolled": false
   },
   "outputs": [],
   "source": [
    "\"0123456\"[2:5]"
   ]
  },
  {
   "cell_type": "code",
   "execution_count": null,
   "metadata": {},
   "outputs": [],
   "source": [
    "\"0123456\"[:4]"
   ]
  },
  {
   "cell_type": "code",
   "execution_count": null,
   "metadata": {},
   "outputs": [],
   "source": [
    "\"0123456\"[3:]"
   ]
  },
  {
   "cell_type": "markdown",
   "metadata": {},
   "source": [
    "- Strings are immutable, so you can't change its value. You can only assign a new string to a variable."
   ]
  },
  {
   "cell_type": "code",
   "execution_count": null,
   "metadata": {
    "scrolled": false
   },
   "outputs": [],
   "source": [
    "\"change me\"[4] = \"?\""
   ]
  },
  {
   "cell_type": "markdown",
   "metadata": {},
   "source": [
    "- String methods are functions that invoked by a string. Since they belong to the string, the notation is `string.method()`"
   ]
  },
  {
   "cell_type": "code",
   "execution_count": null,
   "metadata": {},
   "outputs": [],
   "source": [
    "\"make me big!\".upper()"
   ]
  },
  {
   "cell_type": "code",
   "execution_count": null,
   "metadata": {},
   "outputs": [],
   "source": [
    "\"where am I?\".find(\"I\")"
   ]
  },
  {
   "cell_type": "markdown",
   "metadata": {},
   "source": [
    "- `in` returns the boolean value of if a substring is in a string. "
   ]
  },
  {
   "cell_type": "code",
   "execution_count": null,
   "metadata": {},
   "outputs": [],
   "source": [
    "\"conservatism\" in \"antidisestablishmentarianism\""
   ]
  },
  {
   "cell_type": "markdown",
   "metadata": {},
   "source": [
    "- You can use relational operators to order string alphabetically. The bigger they are, the later they come in line\n",
    "- All uppercase characters come before lower case ones"
   ]
  },
  {
   "cell_type": "code",
   "execution_count": null,
   "metadata": {},
   "outputs": [],
   "source": [
    "\"apple\" < \"banana\""
   ]
  },
  {
   "cell_type": "code",
   "execution_count": null,
   "metadata": {
    "scrolled": true
   },
   "outputs": [],
   "source": [
    "\"Z\" < \"z\""
   ]
  },
  {
   "cell_type": "markdown",
   "metadata": {},
   "source": [
    "# Chapter 9: Case Study Word Play"
   ]
  },
  {
   "cell_type": "markdown",
   "metadata": {},
   "source": [
    "- `open` takes the name of a file as a parameter, and returns a `file` object that can be used to read the file\n",
    "- the `readline` method reads characters from the file until it gets to a new line, and returns the result as a string"
   ]
  },
  {
   "cell_type": "code",
   "execution_count": null,
   "metadata": {
    "scrolled": true
   },
   "outputs": [],
   "source": [
    "fin = open(\"./files/words.txt\")"
   ]
  },
  {
   "cell_type": "code",
   "execution_count": null,
   "metadata": {},
   "outputs": [],
   "source": [
    "fin.readline()"
   ]
  },
  {
   "cell_type": "markdown",
   "metadata": {},
   "source": [
    "# Chapter 10: Lists"
   ]
  },
  {
   "cell_type": "markdown",
   "metadata": {},
   "source": [
    "- **List** is a sequence of values, where the elements/items can be of any type\n",
    "- Surrounding a comma seperated sequence of values with `[]` is how you make a list\n",
    "- Lists are mutable, so you can change any item at any index for another item. \n",
    "    - `the_list[2] = \"hello there!\"`\n",
    "    "
   ]
  },
  {
   "cell_type": "code",
   "execution_count": null,
   "metadata": {},
   "outputs": [],
   "source": [
    "cool_numbers = [0, 1, 2, 3, 4, 5, 6, 7, 8, 9]"
   ]
  },
  {
   "cell_type": "code",
   "execution_count": null,
   "metadata": {},
   "outputs": [],
   "source": [
    "cool_numbers[9] = \"!\""
   ]
  },
  {
   "cell_type": "code",
   "execution_count": null,
   "metadata": {
    "scrolled": true
   },
   "outputs": [],
   "source": [
    "cool_numbers"
   ]
  },
  {
   "cell_type": "markdown",
   "metadata": {},
   "source": [
    "- If you reassign a slice, then the new items will replace the slice. \n",
    "    - If you're reassigning more items: Then the list will be longer and the items after the slice will be pushed back\n",
    "    - If you're reassigning more items: Then the list will be shorter and the items will be pushed forward\n",
    "    - The assigned item must be an iterable\n",
    "\n",
    "    "
   ]
  },
  {
   "cell_type": "code",
   "execution_count": null,
   "metadata": {},
   "outputs": [],
   "source": [
    "cool_numbers[2:4]"
   ]
  },
  {
   "cell_type": "code",
   "execution_count": null,
   "metadata": {},
   "outputs": [],
   "source": [
    "cool_numbers[2:4] = \"yes\", \"no\", \"maybe?\", \"ok then\""
   ]
  },
  {
   "cell_type": "code",
   "execution_count": null,
   "metadata": {},
   "outputs": [],
   "source": [
    "cool_numbers"
   ]
  },
  {
   "cell_type": "code",
   "execution_count": null,
   "metadata": {},
   "outputs": [],
   "source": [
    "cool_numbers[4]"
   ]
  },
  {
   "cell_type": "code",
   "execution_count": null,
   "metadata": {},
   "outputs": [],
   "source": [
    "cool_numbers[2:6] "
   ]
  },
  {
   "cell_type": "code",
   "execution_count": null,
   "metadata": {},
   "outputs": [],
   "source": [
    "cool_numbers[2:6] = 23,"
   ]
  },
  {
   "cell_type": "code",
   "execution_count": null,
   "metadata": {},
   "outputs": [],
   "source": [
    "cool_numbers"
   ]
  },
  {
   "cell_type": "markdown",
   "metadata": {},
   "source": [
    "- To traverse a list, you can use a `for` loop\n",
    "- A nested list will count as one item when you iterate through a list"
   ]
  },
  {
   "cell_type": "code",
   "execution_count": null,
   "metadata": {},
   "outputs": [],
   "source": [
    "for num in cool_numbers:\n",
    "    print(str(num), \" is a cool cucumber\")"
   ]
  },
  {
   "cell_type": "markdown",
   "metadata": {},
   "source": [
    "- If you want to update the list and not just read it, you must use the indexes.\n",
    "- You can do this with the `range` and `len` function. \n",
    "    ` `range` returns a list of numbers from 0 to n-1, so works perfectly for indexing"
   ]
  },
  {
   "cell_type": "code",
   "execution_count": null,
   "metadata": {},
   "outputs": [],
   "source": [
    "for i in range(len(cool_numbers)):\n",
    "    cool_numbers[i] *= 2"
   ]
  },
  {
   "cell_type": "code",
   "execution_count": null,
   "metadata": {},
   "outputs": [],
   "source": [
    "cool_numbers"
   ]
  },
  {
   "cell_type": "markdown",
   "metadata": {},
   "source": [
    "- `+` concatenates lists\n",
    "- `*` repeats a list a given number of times"
   ]
  },
  {
   "cell_type": "code",
   "execution_count": null,
   "metadata": {},
   "outputs": [],
   "source": [
    "[\"head\", \"shoulders\"] + [\"knees\", \"toes\"] * 2"
   ]
  },
  {
   "cell_type": "markdown",
   "metadata": {},
   "source": [
    "- `append` adds an item to the end of a list\n",
    "- `extend` takes a list as an argument and adds it to the end of the list that `extend` is being called from\n",
    "- `sort` arranges the list from high to low\n",
    "- These functions are void, so they return nothing, just changes the list that its called from\n"
   ]
  },
  {
   "cell_type": "code",
   "execution_count": null,
   "metadata": {},
   "outputs": [],
   "source": [
    "potus = [\"clinton\", \"bush\", \"obama\"].append(\"TRUMP\")"
   ]
  },
  {
   "cell_type": "code",
   "execution_count": null,
   "metadata": {},
   "outputs": [],
   "source": [
    "print(potus)"
   ]
  },
  {
   "cell_type": "code",
   "execution_count": null,
   "metadata": {},
   "outputs": [],
   "source": [
    "potus = [\"clinton\", \"bush\", \"obama\"]\n",
    "potus.append(\"TRUMP\")"
   ]
  },
  {
   "cell_type": "code",
   "execution_count": null,
   "metadata": {},
   "outputs": [],
   "source": [
    "potus"
   ]
  },
  {
   "cell_type": "code",
   "execution_count": null,
   "metadata": {},
   "outputs": [],
   "source": [
    "mode = [\">\", \">>\", \">>>\"]\n",
    "boost = [\">>>>\", \">>>>>\"]"
   ]
  },
  {
   "cell_type": "code",
   "execution_count": null,
   "metadata": {},
   "outputs": [],
   "source": [
    "mode.extend(boost)\n",
    "mode"
   ]
  },
  {
   "cell_type": "code",
   "execution_count": null,
   "metadata": {},
   "outputs": [],
   "source": [
    "wisdom = \"You have power over your mind, not outside events. Realize this, and you will find strength.\"\n",
    "wise_words = wisdom.split()\n",
    "wise_words"
   ]
  },
  {
   "cell_type": "code",
   "execution_count": null,
   "metadata": {
    "scrolled": true
   },
   "outputs": [],
   "source": [
    "wise_words.sort()\n",
    "wise_words"
   ]
  },
  {
   "cell_type": "markdown",
   "metadata": {},
   "source": [
    "- **reduce** operations are those that combine a sequence of elemens into a single value\n",
    "- `sum` adds up the elements of a list"
   ]
  },
  {
   "cell_type": "code",
   "execution_count": null,
   "metadata": {},
   "outputs": [],
   "source": [
    "sum([1,2,3,4,5,6,7,8,9,10])"
   ]
  },
  {
   "cell_type": "markdown",
   "metadata": {},
   "source": [
    "- **map**ping is when you traverse one list to build another. "
   ]
  },
  {
   "cell_type": "code",
   "execution_count": null,
   "metadata": {},
   "outputs": [],
   "source": [
    "def wiser_words(wisdom=[\"cogito\", \"ergo\", \"sum\"]):\n",
    "    truth = []\n",
    "    for word in wisdom:\n",
    "        truth.append(\"To \" + word + \" or not to \" + word)\n",
    "    return truth"
   ]
  },
  {
   "cell_type": "code",
   "execution_count": null,
   "metadata": {
    "scrolled": true
   },
   "outputs": [],
   "source": [
    "wiser_words(wise_words)"
   ]
  },
  {
   "cell_type": "markdown",
   "metadata": {},
   "source": [
    "**filter**ing is when you select only certain elements from a list, and return a sublist"
   ]
  },
  {
   "cell_type": "code",
   "execution_count": null,
   "metadata": {},
   "outputs": [],
   "source": [
    "def no_i_in_team(cheer=[\"Let's\", \"try\", \"our\", \"best\"]):\n",
    "    return [call for call in cheer if \"i\" not in call]"
   ]
  },
  {
   "cell_type": "code",
   "execution_count": null,
   "metadata": {
    "scrolled": true
   },
   "outputs": [],
   "source": [
    "no_i_in_team(wise_words)"
   ]
  },
  {
   "cell_type": "markdown",
   "metadata": {},
   "source": [
    "- `pop` deletes an element from a list(last by default) and returns that item. "
   ]
  },
  {
   "cell_type": "code",
   "execution_count": null,
   "metadata": {},
   "outputs": [],
   "source": [
    "book_house_boys = [\"cooper\", \"harry\", \"hawk\", \"james\", \"andy\", \"hank\"]\n",
    "lost_one = book_house_boys.pop()"
   ]
  },
  {
   "cell_type": "code",
   "execution_count": null,
   "metadata": {},
   "outputs": [],
   "source": [
    "book_house_boys"
   ]
  },
  {
   "cell_type": "code",
   "execution_count": null,
   "metadata": {},
   "outputs": [],
   "source": [
    "lost_one"
   ]
  },
  {
   "cell_type": "markdown",
   "metadata": {},
   "source": [
    "- `del` does the same as pop, but does not return the deleted item. It can be also used to remove a slice of a list(all items, but not including the second index)"
   ]
  },
  {
   "cell_type": "code",
   "execution_count": null,
   "metadata": {},
   "outputs": [],
   "source": [
    "del book_house_boys[2:4]"
   ]
  },
  {
   "cell_type": "code",
   "execution_count": null,
   "metadata": {
    "scrolled": true
   },
   "outputs": [],
   "source": [
    "book_house_boys"
   ]
  },
  {
   "cell_type": "markdown",
   "metadata": {},
   "source": [
    "-If you know the item but not the index, you can use `remove`"
   ]
  },
  {
   "cell_type": "code",
   "execution_count": null,
   "metadata": {},
   "outputs": [],
   "source": [
    "book_house_boys.remove(\"cooper\")"
   ]
  },
  {
   "cell_type": "code",
   "execution_count": null,
   "metadata": {
    "scrolled": true
   },
   "outputs": [],
   "source": [
    "book_house_boys"
   ]
  },
  {
   "cell_type": "markdown",
   "metadata": {},
   "source": [
    "- To convert a string to a list, you can use the `list` function"
   ]
  },
  {
   "cell_type": "code",
   "execution_count": null,
   "metadata": {
    "scrolled": true
   },
   "outputs": [],
   "source": [
    "list(\"urgr8\")"
   ]
  },
  {
   "cell_type": "markdown",
   "metadata": {},
   "source": [
    "- If you want to seperate a string by a certain character(space by default), then use the string function `split`"
   ]
  },
  {
   "cell_type": "code",
   "execution_count": null,
   "metadata": {
    "scrolled": true
   },
   "outputs": [],
   "source": [
    "\"\"\"I'm tryna put you in the worst mood, ah\n",
    "P1 cleaner than your church shoes, ah\n",
    "Milli point two just to hurt you, ah\n",
    "All red Lamb' just to tease you, ah\n",
    "None of these toys on lease too, ah\n",
    "Made your whole year in a week too, yah\n",
    "Main bitch out your league too, ah\n",
    "Side bitch out of your league too, ah\"\"\".split(\"ah\")"
   ]
  },
  {
   "cell_type": "markdown",
   "metadata": {},
   "source": [
    "- If you want to combine a list into one string, you will use the string function `join`"
   ]
  },
  {
   "cell_type": "code",
   "execution_count": null,
   "metadata": {},
   "outputs": [],
   "source": [
    "\"Let it be\".join([\"Let \", \" it \", \" be\"])"
   ]
  },
  {
   "cell_type": "markdown",
   "metadata": {},
   "source": [
    "- The two items are **equivalent**, because they have the same value. \n",
    "- But they can be not **identical** if they don't refer to the same object"
   ]
  },
  {
   "cell_type": "code",
   "execution_count": null,
   "metadata": {},
   "outputs": [],
   "source": [
    "a = \"nanners\"\n",
    "b = \"nanners\""
   ]
  },
  {
   "cell_type": "code",
   "execution_count": null,
   "metadata": {},
   "outputs": [],
   "source": [
    "a == b"
   ]
  },
  {
   "cell_type": "code",
   "execution_count": null,
   "metadata": {},
   "outputs": [],
   "source": [
    "a is b"
   ]
  },
  {
   "cell_type": "code",
   "execution_count": null,
   "metadata": {},
   "outputs": [],
   "source": [
    "a = list(a)\n",
    "b = list(b)"
   ]
  },
  {
   "cell_type": "code",
   "execution_count": null,
   "metadata": {},
   "outputs": [],
   "source": [
    "a"
   ]
  },
  {
   "cell_type": "code",
   "execution_count": null,
   "metadata": {},
   "outputs": [],
   "source": [
    "b"
   ]
  },
  {
   "cell_type": "code",
   "execution_count": null,
   "metadata": {},
   "outputs": [],
   "source": [
    "a == b"
   ]
  },
  {
   "cell_type": "code",
   "execution_count": null,
   "metadata": {},
   "outputs": [],
   "source": [
    "a is b"
   ]
  },
  {
   "cell_type": "markdown",
   "metadata": {},
   "source": [
    "- The `=` operation assigns a variable to the same object as another variable\n",
    "- This is called aliasing, when you object has more than one reference. \n",
    "- If you change one alias, then the other aliases are changed\n",
    "- This is useful, but can be error prone. So try to avoid aliasing with mutable objects(for strings, it does not matter)."
   ]
  },
  {
   "cell_type": "code",
   "execution_count": null,
   "metadata": {},
   "outputs": [],
   "source": [
    "banana = a"
   ]
  },
  {
   "cell_type": "code",
   "execution_count": null,
   "metadata": {},
   "outputs": [],
   "source": [
    "banana is a"
   ]
  },
  {
   "cell_type": "code",
   "execution_count": null,
   "metadata": {},
   "outputs": [],
   "source": [
    "banana[-1] = \"!\""
   ]
  },
  {
   "cell_type": "code",
   "execution_count": null,
   "metadata": {},
   "outputs": [],
   "source": [
    "banana"
   ]
  },
  {
   "cell_type": "code",
   "execution_count": null,
   "metadata": {
    "scrolled": true
   },
   "outputs": [],
   "source": [
    "a"
   ]
  },
  {
   "cell_type": "markdown",
   "metadata": {},
   "source": [
    "- Make sure you know if your function is modifying the inputted list or returns a brand new list\n",
    "- Best practice is to just return a new list so that you can keep track of what's going on at each step if you make a new function.\n",
    "- Most list methods modify the list and return `None`\n",
    "     - Rule of thumb, if it's a method called by a list variable then it's likely to just modify the list(and `del`)\n",
    "     - If it's an operator (`+` or `*`) then it will return a new list not touching the original. (and `pop`)"
   ]
  },
  {
   "cell_type": "markdown",
   "metadata": {},
   "source": [
    "- Make a copy of a list if you want to avoid aliasing"
   ]
  },
  {
   "cell_type": "code",
   "execution_count": null,
   "metadata": {},
   "outputs": [],
   "source": [
    "best_friends = [\"penny\", \"chip\", \"used tissuse\"]"
   ]
  },
  {
   "cell_type": "code",
   "execution_count": null,
   "metadata": {},
   "outputs": [],
   "source": [
    "indooooors = best_friends[:]"
   ]
  },
  {
   "cell_type": "code",
   "execution_count": null,
   "metadata": {},
   "outputs": [],
   "source": [
    "indooooors.sort()"
   ]
  },
  {
   "cell_type": "code",
   "execution_count": null,
   "metadata": {},
   "outputs": [],
   "source": [
    "indooooors"
   ]
  },
  {
   "cell_type": "code",
   "execution_count": null,
   "metadata": {
    "scrolled": true
   },
   "outputs": [],
   "source": [
    "best_friends"
   ]
  },
  {
   "cell_type": "markdown",
   "metadata": {},
   "source": [
    "# Chapter 11: Dictionaries"
   ]
  },
  {
   "cell_type": "markdown",
   "metadata": {},
   "source": [
    "- A **dictionary** is like a list, but more general. Instead of indexes that are just numbers, they can be (almost) any type. \n",
    "- It is a collection of indices(or **keys**) and a collection of values. Each key is associated with one value. \n",
    "- The association of a key and a value is the key-value pair. Or just, **item**\n",
    "- A dictionary **maps** the keys to the values"
   ]
  },
  {
   "cell_type": "markdown",
   "metadata": {},
   "source": [
    "- To create an empty dictionary, use the `dict` function or `{}`"
   ]
  },
  {
   "cell_type": "code",
   "execution_count": null,
   "metadata": {},
   "outputs": [],
   "source": [
    "webster = {}"
   ]
  },
  {
   "cell_type": "code",
   "execution_count": null,
   "metadata": {},
   "outputs": [],
   "source": [
    "type(webster)"
   ]
  },
  {
   "cell_type": "markdown",
   "metadata": {},
   "source": [
    "- There is no order to the keys in a dictionary\n",
    "- The keys are used to look up the values"
   ]
  },
  {
   "cell_type": "code",
   "execution_count": null,
   "metadata": {},
   "outputs": [],
   "source": [
    "anime_dict = {\"jojo\": \"big beef\", \"twin peaks\": \"weird white\", \"fma\": \"modern magic\"}"
   ]
  },
  {
   "cell_type": "code",
   "execution_count": null,
   "metadata": {},
   "outputs": [],
   "source": [
    "anime_dict[\"fma\"]"
   ]
  },
  {
   "cell_type": "markdown",
   "metadata": {},
   "source": [
    "- `len` returns the number of keys in a dictionary\n",
    "- `in` tells you if there is that key in the dictionary"
   ]
  },
  {
   "cell_type": "code",
   "execution_count": null,
   "metadata": {},
   "outputs": [],
   "source": [
    "len(anime_dict)"
   ]
  },
  {
   "cell_type": "code",
   "execution_count": null,
   "metadata": {},
   "outputs": [],
   "source": [
    "\"jojo\" in anime_dict"
   ]
  },
  {
   "cell_type": "markdown",
   "metadata": {},
   "source": [
    "- If you want to see if there is a value, then use the `values` dictionary method"
   ]
  },
  {
   "cell_type": "code",
   "execution_count": null,
   "metadata": {
    "scrolled": true
   },
   "outputs": [],
   "source": [
    "\"weird white\" in anime_dict.values()"
   ]
  },
  {
   "cell_type": "markdown",
   "metadata": {},
   "source": [
    "- Dictionaries uses `hashtables` which make it so that a look up in a dictionary basically does not depend on how many key-value pairs there are"
   ]
  },
  {
   "cell_type": "markdown",
   "metadata": {},
   "source": [
    "- Dictionaries are suitable for creating counters. If a key is in the dictionary, you can instantiate it. If not, then you can keep adding to that value"
   ]
  },
  {
   "cell_type": "code",
   "execution_count": null,
   "metadata": {},
   "outputs": [],
   "source": [
    "def histogram(text):\n",
    "    my_dict = {}\n",
    "    for char in text:\n",
    "        if char in my_dict:\n",
    "            my_dict[char] += 1\n",
    "        else:\n",
    "            my_dict[char] = 1\n",
    "    return my_dict"
   ]
  },
  {
   "cell_type": "code",
   "execution_count": null,
   "metadata": {
    "scrolled": true
   },
   "outputs": [],
   "source": [
    "histogram(\"My wealth and treasure? If you want it, I'll let you have it. Look for it, I left it all at that place!\")"
   ]
  },
  {
   "cell_type": "markdown",
   "metadata": {},
   "source": [
    "- Dictionaries also have a `get` method, where it returns a default value if a key is not in a dictionary. If it is, then it'll just return the corresponding value"
   ]
  },
  {
   "cell_type": "code",
   "execution_count": null,
   "metadata": {},
   "outputs": [],
   "source": [
    "def get_histogram(text):\n",
    "    my_dict = {}\n",
    "    for char in text:\n",
    "        my_dict[char] = my_dict.get(char, 0) + 1\n",
    "    return my_dict"
   ]
  },
  {
   "cell_type": "code",
   "execution_count": null,
   "metadata": {},
   "outputs": [],
   "source": [
    "histogram(\"we are fighting dreamers\")"
   ]
  },
  {
   "cell_type": "code",
   "execution_count": null,
   "metadata": {},
   "outputs": [],
   "source": [
    "get_histogram(\"we are fighting dreamers\")"
   ]
  },
  {
   "cell_type": "markdown",
   "metadata": {},
   "source": [
    "- Use the `for` loop to iterate through each key of a dictionary. \n",
    "- Don't forget that it's unordered"
   ]
  },
  {
   "cell_type": "code",
   "execution_count": null,
   "metadata": {
    "scrolled": false
   },
   "outputs": [],
   "source": [
    "for key in anime_dict:\n",
    "    print(key, anime_dict[key])"
   ]
  },
  {
   "cell_type": "markdown",
   "metadata": {},
   "source": [
    "- You can also use the `sorted()` function to get a sorted dictionary"
   ]
  },
  {
   "cell_type": "code",
   "execution_count": null,
   "metadata": {
    "scrolled": true
   },
   "outputs": [],
   "source": [
    "for key in sorted(anime_dict):\n",
    "    print(key, anime_dict[key])"
   ]
  },
  {
   "cell_type": "markdown",
   "metadata": {},
   "source": [
    "- A `raise` statement causes and exception for when your code runs into an error\n",
    "- It prints a trace back, and an error message"
   ]
  },
  {
   "cell_type": "code",
   "execution_count": null,
   "metadata": {},
   "outputs": [],
   "source": [
    "def reverse_lookup(dictionary, value):\n",
    "    for key in dictionary:\n",
    "        if dictionary[key] == value:\n",
    "            return key\n",
    "    raise LookupError(\"Value is not in dictionary\")"
   ]
  },
  {
   "cell_type": "code",
   "execution_count": null,
   "metadata": {},
   "outputs": [],
   "source": [
    "reverse_lookup(anime_dict, \"modern magic\")"
   ]
  },
  {
   "cell_type": "code",
   "execution_count": null,
   "metadata": {
    "scrolled": false
   },
   "outputs": [],
   "source": [
    "reverse_lookup(anime_dict, \"bummed boys\")"
   ]
  },
  {
   "cell_type": "markdown",
   "metadata": {},
   "source": [
    "- Dictionary keys must be immutable, but the value can be mutable.\n",
    "- Dictionaries can be used as a value for another dictionary!\n",
    "- If you really want to to use a list as key, you can change it to a tuple first"
   ]
  },
  {
   "cell_type": "markdown",
   "metadata": {},
   "source": [
    "- Since dictionaries run about the same no matter the size, you can use it to store operations that have already run in a function\n"
   ]
  },
  {
   "cell_type": "code",
   "execution_count": null,
   "metadata": {},
   "outputs": [],
   "source": [
    "def fibonachi_dict(n=1):\n",
    "    fib_dict = {0: 0, 1: 1}\n",
    "    if n in fib_dict:\n",
    "        return fib_dict[n]\n",
    "    else: \n",
    "        fib_dict[n] = fibbonachi_dict(n - 2) + fibbonachi_dict(n - 1)\n",
    "        return fib_dict[n]\n"
   ]
  },
  {
   "cell_type": "code",
   "execution_count": null,
   "metadata": {},
   "outputs": [],
   "source": [
    "import time"
   ]
  },
  {
   "cell_type": "code",
   "execution_count": null,
   "metadata": {},
   "outputs": [],
   "source": [
    "# Start timing\n",
    "dblStart = time.perf_counter()\n",
    "# Call method\n",
    "print(fibonacchi(40))\n",
    "# Stop timing and print results\n",
    "intTime = \"%.2f\" % ((time.perf_counter() - dblStart) * 1000000)\n",
    "message = \"Elasped Time: \" + str(intTime) + \" microseconds\"\n",
    "print(message, \"\\n\")"
   ]
  },
  {
   "cell_type": "code",
   "execution_count": null,
   "metadata": {},
   "outputs": [],
   "source": [
    "# Start timing\n",
    "dblStart = time.perf_counter()\n",
    "# Call method\n",
    "print(fibonachi_dict(39))\n",
    "# Stop timing and print results\n",
    "intTime = \"%.2f\" % ((time.perf_counter() - dblStart) * 1000000)\n",
    "message = \"Elasped Time: \" + str(intTime) + \" microseconds\"\n",
    "print(message, \"\\n\")"
   ]
  },
  {
   "cell_type": "markdown",
   "metadata": {},
   "source": [
    "- Variables in `__main__` are **global**. These are variables that can be accessed from any function. \n",
    "- Global variables persist from one function call to the next\n",
    "- Global variables are useful for **flags**, boolean variables that indicate when a condition is true"
   ]
  },
  {
   "cell_type": "code",
   "execution_count": null,
   "metadata": {},
   "outputs": [],
   "source": [
    "def color_of_light():\n",
    "    if good_to_go:\n",
    "        return \"Color: Green\"\n",
    "    else:\n",
    "        return \"Color: Red\""
   ]
  },
  {
   "cell_type": "code",
   "execution_count": null,
   "metadata": {
    "scrolled": true
   },
   "outputs": [],
   "source": [
    "good_to_go = True\n",
    "color_of_light()"
   ]
  },
  {
   "cell_type": "code",
   "execution_count": null,
   "metadata": {},
   "outputs": [],
   "source": [
    "good_to_go = False\n",
    "color_of_light()"
   ]
  },
  {
   "cell_type": "markdown",
   "metadata": {},
   "source": [
    "- But if you try to change a global variable, then there will be no change outside of the function.\n",
    "- It creates a local variable and changes the value on that and has no effect on the global variable"
   ]
  },
  {
   "cell_type": "code",
   "execution_count": null,
   "metadata": {},
   "outputs": [],
   "source": [
    "def always_green():\n",
    "    good_to_go = True\n",
    "    print(\"I'm\", good_to_go)"
   ]
  },
  {
   "cell_type": "code",
   "execution_count": null,
   "metadata": {},
   "outputs": [],
   "source": [
    "always_green()"
   ]
  },
  {
   "cell_type": "code",
   "execution_count": null,
   "metadata": {},
   "outputs": [],
   "source": [
    "good_to_go"
   ]
  },
  {
   "cell_type": "markdown",
   "metadata": {},
   "source": [
    "- If you want to change the global variable, you need to declare the global variable with `global`"
   ]
  },
  {
   "cell_type": "code",
   "execution_count": null,
   "metadata": {},
   "outputs": [],
   "source": [
    "def always_green_global():\n",
    "    global good_to_go\n",
    "    good_to_go = True\n",
    "    print(\"I'm\", good_to_go)"
   ]
  },
  {
   "cell_type": "code",
   "execution_count": null,
   "metadata": {},
   "outputs": [],
   "source": [
    "good_to_go = False\n",
    "always_green_global()"
   ]
  },
  {
   "cell_type": "code",
   "execution_count": null,
   "metadata": {
    "scrolled": true
   },
   "outputs": [],
   "source": [
    "good_to_go"
   ]
  },
  {
   "cell_type": "markdown",
   "metadata": {},
   "source": [
    "- If you are trying to update a global variable, then you must also declare it with `global`\n",
    "- You must also do this you're reassigning a variable to something else"
   ]
  },
  {
   "cell_type": "code",
   "execution_count": null,
   "metadata": {},
   "outputs": [],
   "source": [
    "def color_changer():\n",
    "    if good_to_go:\n",
    "        good_to_go = False\n",
    "        print(color_of_light())\n",
    "    else: \n",
    "        good_to_go = True\n",
    "        print(color_of_light())"
   ]
  },
  {
   "cell_type": "code",
   "execution_count": null,
   "metadata": {
    "scrolled": true
   },
   "outputs": [],
   "source": [
    "good_to_go = False\n",
    "color_changer()"
   ]
  },
  {
   "cell_type": "code",
   "execution_count": null,
   "metadata": {},
   "outputs": [],
   "source": [
    "def color_changer_global():\n",
    "    global good_to_go\n",
    "    if good_to_go:\n",
    "        good_to_go = False\n",
    "        print(color_of_light())\n",
    "    else: \n",
    "        good_to_go = True\n",
    "        print(color_of_light())"
   ]
  },
  {
   "cell_type": "code",
   "execution_count": null,
   "metadata": {},
   "outputs": [],
   "source": [
    "good_to_go = False\n",
    "color_changer_global()"
   ]
  },
  {
   "cell_type": "code",
   "execution_count": null,
   "metadata": {},
   "outputs": [],
   "source": [
    "good_to_go = True\n",
    "color_changer_global()"
   ]
  },
  {
   "cell_type": "markdown",
   "metadata": {},
   "source": [
    "- If a global variable refers to a mutable object, then you don't need to declare it before changing it"
   ]
  },
  {
   "cell_type": "code",
   "execution_count": null,
   "metadata": {},
   "outputs": [],
   "source": [
    "def eye_of_gifted_and_the_damned():\n",
    "    gifted_and_damned = [\"Cooper\", \"Laura\", \"Sarah\", \"Ronette\"]\n",
    "    S1 = set(gifted_and_damned)\n",
    "    S2 = set(red_room)\n",
    "    if \"Leland\" in red_room and S1.intersection(S2):\n",
    "        i = red_room.index(\"Leland\")\n",
    "        red_room[i] = \"Bob\"\n",
    "        print(\"Giant: It is happening again\")\n",
    "    print(\"Currently in the red room: \", red_room)"
   ]
  },
  {
   "cell_type": "code",
   "execution_count": null,
   "metadata": {},
   "outputs": [],
   "source": [
    "red_room = [\"Leland\", \"Maddy\"]"
   ]
  },
  {
   "cell_type": "code",
   "execution_count": null,
   "metadata": {},
   "outputs": [],
   "source": [
    "eye_of_gifted_and_the_damned()"
   ]
  },
  {
   "cell_type": "code",
   "execution_count": null,
   "metadata": {},
   "outputs": [],
   "source": [
    "red_room = [\"Leland\", \"Cooper\", \"Hawk\", \"Harry\"]"
   ]
  },
  {
   "cell_type": "code",
   "execution_count": null,
   "metadata": {
    "scrolled": true
   },
   "outputs": [],
   "source": [
    "eye_of_gifted_and_the_damned()"
   ]
  },
  {
   "cell_type": "code",
   "execution_count": null,
   "metadata": {},
   "outputs": [],
   "source": [
    "red_room"
   ]
  },
  {
   "cell_type": "markdown",
   "metadata": {},
   "source": [
    "## Debugging"
   ]
  },
  {
   "cell_type": "markdown",
   "metadata": {},
   "source": [
    "- You can write code that will check for erros automatically\n",
    "    - i.e. a program that checks for consistent results between two different programs\n",
    "- `pprint` displays built in types in a more human readable format"
   ]
  },
  {
   "cell_type": "code",
   "execution_count": 1,
   "metadata": {},
   "outputs": [],
   "source": [
    "import pprint"
   ]
  },
  {
   "cell_type": "code",
   "execution_count": 2,
   "metadata": {},
   "outputs": [],
   "source": [
    "pp = pprint.PrettyPrinter(indent=4)"
   ]
  },
  {
   "cell_type": "code",
   "execution_count": 5,
   "metadata": {},
   "outputs": [],
   "source": [
    "stuff = ['spam', 'eggs', 'lumberjack', 'knights', 'ni']\n",
    "stuff.insert(0, stuff[:])"
   ]
  },
  {
   "cell_type": "code",
   "execution_count": 7,
   "metadata": {},
   "outputs": [
    {
     "name": "stdout",
     "output_type": "stream",
     "text": [
      "[['spam', 'eggs', 'lumberjack', 'knights', 'ni'], 'spam', 'eggs', 'lumberjack', 'knights', 'ni']\n"
     ]
    }
   ],
   "source": [
    "print(stuff)"
   ]
  },
  {
   "cell_type": "code",
   "execution_count": 8,
   "metadata": {
    "scrolled": true
   },
   "outputs": [
    {
     "name": "stdout",
     "output_type": "stream",
     "text": [
      "[   ['spam', 'eggs', 'lumberjack', 'knights', 'ni'],\n",
      "    'spam',\n",
      "    'eggs',\n",
      "    'lumberjack',\n",
      "    'knights',\n",
      "    'ni']\n"
     ]
    }
   ],
   "source": [
    "pp.pprint(stuff)"
   ]
  },
  {
   "cell_type": "markdown",
   "metadata": {},
   "source": [
    "# Chapter 12 Tuples"
   ]
  },
  {
   "cell_type": "markdown",
   "metadata": {},
   "source": [
    "- *Tuples* are like lists that are immutables. \n",
    "- Is a sequence of values that can be of any type, and indexed by integers\n",
    "- It is a comma seperated sequence of values. It's not necessary, but you can put paranthesis around it"
   ]
  },
  {
   "cell_type": "code",
   "execution_count": 12,
   "metadata": {},
   "outputs": [],
   "source": [
    "tup = (\"shirt\", \"pants\", \"socks\", \"cloth\")"
   ]
  },
  {
   "cell_type": "code",
   "execution_count": 11,
   "metadata": {},
   "outputs": [
    {
     "name": "stdout",
     "output_type": "stream",
     "text": [
      "<class 'tuple'>\n"
     ]
    }
   ],
   "source": [
    "print(type(tup))"
   ]
  },
  {
   "cell_type": "code",
   "execution_count": 10,
   "metadata": {},
   "outputs": [
    {
     "name": "stdout",
     "output_type": "stream",
     "text": [
      "('shirt', 'pants', 'socks', 'cloth')\n"
     ]
    }
   ],
   "source": [
    "print(tup)"
   ]
  },
  {
   "cell_type": "markdown",
   "metadata": {},
   "source": [
    "- For a single item tuple, just put a comma after it"
   ]
  },
  {
   "cell_type": "code",
   "execution_count": 16,
   "metadata": {},
   "outputs": [
    {
     "data": {
      "text/plain": [
       "('michaelangelo',)"
      ]
     },
     "execution_count": 16,
     "metadata": {},
     "output_type": "execute_result"
    }
   ],
   "source": [
    "decent_artist = \"michaelangelo\",\n",
    "decent_artist"
   ]
  },
  {
   "cell_type": "code",
   "execution_count": 17,
   "metadata": {},
   "outputs": [
    {
     "name": "stdout",
     "output_type": "stream",
     "text": [
      "<class 'tuple'>\n"
     ]
    }
   ],
   "source": [
    "print(type(decent_artist))"
   ]
  },
  {
   "cell_type": "markdown",
   "metadata": {},
   "source": [
    "- A value in paranthesis is not a tuple"
   ]
  },
  {
   "cell_type": "code",
   "execution_count": 21,
   "metadata": {},
   "outputs": [
    {
     "data": {
      "text/plain": [
       "'i wish i was a tuple'"
      ]
     },
     "execution_count": 21,
     "metadata": {},
     "output_type": "execute_result"
    }
   ],
   "source": [
    "my_desire = (\"i wish i was a tuple\")\n",
    "my_desire"
   ]
  },
  {
   "cell_type": "markdown",
   "metadata": {},
   "source": [
    "- The `tuple` function turns any sequence(string, list, or tuple) into a tuple with the elements as the sequences"
   ]
  },
  {
   "cell_type": "code",
   "execution_count": 24,
   "metadata": {},
   "outputs": [
    {
     "data": {
      "text/plain": [
       "('o', 'm', 'g', 'o', 'm', 'g', 'o', 'm', 'g', 'o', 'm', 'g', 'o', 'm', 'g')"
      ]
     },
     "execution_count": 24,
     "metadata": {},
     "output_type": "execute_result"
    }
   ],
   "source": [
    "battle_cry = tuple(\"omgomgomgomgomg\")\n",
    "battle_cry"
   ]
  },
  {
   "cell_type": "markdown",
   "metadata": {},
   "source": [
    "- Tuples can be indexed, but the items can not be modified"
   ]
  },
  {
   "cell_type": "code",
   "execution_count": 26,
   "metadata": {},
   "outputs": [
    {
     "data": {
      "text/plain": [
       "('o', 'm', 'g')"
      ]
     },
     "execution_count": 26,
     "metadata": {},
     "output_type": "execute_result"
    }
   ],
   "source": [
    "battle_cry[3:6]"
   ]
  },
  {
   "cell_type": "markdown",
   "metadata": {},
   "source": [
    "```\n",
    "battle_cry[3] = \"L\"`\n",
    "\n",
    "---------------------------------------------------------------------------\n",
    "TypeError                                 Traceback (most recent call last)\n",
    "<ipython-input-27-e229078dc387> in <module>\n",
    "----> 1 battle_cry[3] = \"L\"\n",
    "\n",
    "TypeError: 'tuple' object does not support item assignment\n",
    "```"
   ]
  },
  {
   "cell_type": "markdown",
   "metadata": {},
   "source": [
    "- If you compare two tuples, the first item gets compare, then the next one until one is greater"
   ]
  },
  {
   "cell_type": "code",
   "execution_count": 32,
   "metadata": {},
   "outputs": [
    {
     "data": {
      "text/plain": [
       "True"
      ]
     },
     "execution_count": 32,
     "metadata": {},
     "output_type": "execute_result"
    }
   ],
   "source": [
    "(0.0, \"Charli XCX\", 2.71) <= (0, \"Leo\", 3.14)"
   ]
  },
  {
   "cell_type": "markdown",
   "metadata": {},
   "source": [
    "- To swap the values of two variables, you can use *tuple assignmet*"
   ]
  },
  {
   "cell_type": "code",
   "execution_count": 36,
   "metadata": {},
   "outputs": [
    {
     "name": "stdout",
     "output_type": "stream",
     "text": [
      "LH:  Tess Coleman\n",
      "JLC:  Anna\n"
     ]
    }
   ],
   "source": [
    "Lindsay_Lohan = \"Tess Coleman\"\n",
    "Jamie_Lee_Curtis = \"Anna\"\n",
    "print(\"LH: \", Lindsay_Lohan)\n",
    "print(\"JLC: \", Jamie_Lee_Curtis)"
   ]
  },
  {
   "cell_type": "code",
   "execution_count": 34,
   "metadata": {},
   "outputs": [],
   "source": [
    "Lindsay_Lohan, Jamie_Lee_Curtis = Jamie_Lee_Curtis, Lindsay_Lohan"
   ]
  },
  {
   "cell_type": "code",
   "execution_count": 35,
   "metadata": {
    "scrolled": true
   },
   "outputs": [
    {
     "name": "stdout",
     "output_type": "stream",
     "text": [
      "LH:  Anna\n",
      "JLC:  Tess Coleman\n"
     ]
    }
   ],
   "source": [
    "print(\"LH: \", Lindsay_Lohan)\n",
    "print(\"JLC: \", Jamie_Lee_Curtis)"
   ]
  },
  {
   "cell_type": "markdown",
   "metadata": {},
   "source": [
    "- The right side can be any sequence and the items can be assigned to a tuple"
   ]
  },
  {
   "cell_type": "code",
   "execution_count": 1,
   "metadata": {},
   "outputs": [],
   "source": [
    "good_song = \"And I'm right there, right there \\\n",
    "And he's right there, right there \\\n",
    "And we're right there, right there\""
   ]
  },
  {
   "cell_type": "code",
   "execution_count": 3,
   "metadata": {},
   "outputs": [],
   "source": [
    "begin, middle, end = [i for i in good_song.split(\"And\") if i]"
   ]
  },
  {
   "cell_type": "code",
   "execution_count": 4,
   "metadata": {},
   "outputs": [
    {
     "data": {
      "text/plain": [
       "\" I'm right there, right there \""
      ]
     },
     "execution_count": 4,
     "metadata": {},
     "output_type": "execute_result"
    }
   ],
   "source": [
    "begin"
   ]
  },
  {
   "cell_type": "code",
   "execution_count": 5,
   "metadata": {},
   "outputs": [
    {
     "data": {
      "text/plain": [
       "\" he's right there, right there \""
      ]
     },
     "execution_count": 5,
     "metadata": {},
     "output_type": "execute_result"
    }
   ],
   "source": [
    "middle"
   ]
  },
  {
   "cell_type": "code",
   "execution_count": 6,
   "metadata": {
    "scrolled": true
   },
   "outputs": [
    {
     "data": {
      "text/plain": [
       "\" we're right there, right there\""
      ]
     },
     "execution_count": 6,
     "metadata": {},
     "output_type": "execute_result"
    }
   ],
   "source": [
    "end"
   ]
  },
  {
   "cell_type": "markdown",
   "metadata": {},
   "source": [
    "- You can only return one thing in a function, but you can return a tuple of all the items you want to return instead."
   ]
  },
  {
   "cell_type": "code",
   "execution_count": 7,
   "metadata": {},
   "outputs": [],
   "source": [
    "def truth_and_lies():\n",
    "    return True, False"
   ]
  },
  {
   "cell_type": "code",
   "execution_count": 9,
   "metadata": {},
   "outputs": [
    {
     "data": {
      "text/plain": [
       "(True, False)"
      ]
     },
     "execution_count": 9,
     "metadata": {},
     "output_type": "execute_result"
    }
   ],
   "source": [
    "tal_1 = truth_and_lies()\n",
    "tal_1"
   ]
  },
  {
   "cell_type": "code",
   "execution_count": 10,
   "metadata": {},
   "outputs": [],
   "source": [
    "truthal, talies = truth_and_lies()"
   ]
  },
  {
   "cell_type": "code",
   "execution_count": 11,
   "metadata": {},
   "outputs": [
    {
     "data": {
      "text/plain": [
       "True"
      ]
     },
     "execution_count": 11,
     "metadata": {},
     "output_type": "execute_result"
    }
   ],
   "source": [
    "truthal"
   ]
  },
  {
   "cell_type": "code",
   "execution_count": 12,
   "metadata": {},
   "outputs": [
    {
     "data": {
      "text/plain": [
       "False"
      ]
     },
     "execution_count": 12,
     "metadata": {},
     "output_type": "execute_result"
    }
   ],
   "source": [
    "talies"
   ]
  },
  {
   "cell_type": "markdown",
   "metadata": {},
   "source": [
    "- Functions can have variable length number of parameters. \n",
    "- If there is an `*` in front of a parameter, then those arguments are gathered into a tuple. \n",
    "- By convention, we would name this parameter `args`"
   ]
  },
  {
   "cell_type": "code",
   "execution_count": 13,
   "metadata": {},
   "outputs": [],
   "source": [
    "def super_tuple_maker(*args):\n",
    "    print(\"Obviously, I am a: \", type(args))\n",
    "    return args"
   ]
  },
  {
   "cell_type": "code",
   "execution_count": 14,
   "metadata": {
    "scrolled": true
   },
   "outputs": [
    {
     "name": "stdout",
     "output_type": "stream",
     "text": [
      "Obviously, I am a:  <class 'tuple'>\n"
     ]
    },
    {
     "data": {
      "text/plain": [
       "('hello', 1234567890, True, None, <function __main__.super_tuple_maker(*args)>)"
      ]
     },
     "execution_count": 14,
     "metadata": {},
     "output_type": "execute_result"
    }
   ],
   "source": [
    "super_tuple_maker(\"hello\", 1234567890, True, None, super_tuple_maker)"
   ]
  },
  {
   "cell_type": "markdown",
   "metadata": {},
   "source": [
    "- If you have a tuple and want to use each item as a parameter, then you'd use `*` with the argument. \n",
    "- this is called *scattering*"
   ]
  },
  {
   "cell_type": "code",
   "execution_count": 19,
   "metadata": {},
   "outputs": [],
   "source": [
    "def empowerment(*args):\n",
    "    for trait in args:\n",
    "        print(\"I am \", trait)"
   ]
  },
  {
   "cell_type": "code",
   "execution_count": 16,
   "metadata": {},
   "outputs": [],
   "source": [
    "sexy_tuple = \"confidence\", \"honesty\", \"passion\", \"eye contact\""
   ]
  },
  {
   "cell_type": "code",
   "execution_count": 17,
   "metadata": {},
   "outputs": [
    {
     "data": {
      "text/plain": [
       "tuple"
      ]
     },
     "execution_count": 17,
     "metadata": {},
     "output_type": "execute_result"
    }
   ],
   "source": [
    "type(sexy_tuple)"
   ]
  },
  {
   "cell_type": "code",
   "execution_count": 20,
   "metadata": {},
   "outputs": [
    {
     "name": "stdout",
     "output_type": "stream",
     "text": [
      "I am  ('confidence', 'honesty', 'passion', 'eye contact')\n"
     ]
    }
   ],
   "source": [
    "empowerment(sexy_tuple)"
   ]
  },
  {
   "cell_type": "code",
   "execution_count": 22,
   "metadata": {
    "scrolled": true
   },
   "outputs": [
    {
     "name": "stdout",
     "output_type": "stream",
     "text": [
      "I am  confidence\n",
      "I am  honesty\n",
      "I am  passion\n",
      "I am  eye contact\n"
     ]
    }
   ],
   "source": [
    "#Each trait becomes its own item\n",
    "empowerment(*sexy_tuple)"
   ]
  },
  {
   "cell_type": "markdown",
   "metadata": {},
   "source": [
    "- `zip` is a built in function that takes two or more sequences. (it uses `*args`)\n",
    "- Then it returns a list of tuples, where each tuple has an item from each list\n",
    "- To access the list, you must iterate through the `zip object` or make it into a list"
   ]
  },
  {
   "cell_type": "code",
   "execution_count": 24,
   "metadata": {},
   "outputs": [],
   "source": [
    "small_dog = \"hotdog\"\n",
    "dog = [\"hotdog\"] * 6\n",
    "big_dog = [dog] * 6"
   ]
  },
  {
   "cell_type": "markdown",
   "metadata": {},
   "source": [
    "- Goes through each sequence one at a time at the same time, and saves every item into a tuple\n",
    "- `zip object` is an iterator, and object that iterates through a sequence"
   ]
  },
  {
   "cell_type": "code",
   "execution_count": 31,
   "metadata": {},
   "outputs": [],
   "source": [
    "dog_of_hot = zip(small_dog, dog, big_dog)"
   ]
  },
  {
   "cell_type": "code",
   "execution_count": 32,
   "metadata": {
    "scrolled": false
   },
   "outputs": [
    {
     "data": {
      "text/plain": [
       "<zip at 0x7f93c07bd780>"
      ]
     },
     "execution_count": 32,
     "metadata": {},
     "output_type": "execute_result"
    }
   ],
   "source": [
    "dog_of_hot"
   ]
  },
  {
   "cell_type": "code",
   "execution_count": 33,
   "metadata": {
    "scrolled": true
   },
   "outputs": [
    {
     "name": "stdout",
     "output_type": "stream",
     "text": [
      "('h', 'hotdog', ['hotdog', 'hotdog', 'hotdog', 'hotdog', 'hotdog', 'hotdog'])\n",
      "('o', 'hotdog', ['hotdog', 'hotdog', 'hotdog', 'hotdog', 'hotdog', 'hotdog'])\n",
      "('t', 'hotdog', ['hotdog', 'hotdog', 'hotdog', 'hotdog', 'hotdog', 'hotdog'])\n",
      "('d', 'hotdog', ['hotdog', 'hotdog', 'hotdog', 'hotdog', 'hotdog', 'hotdog'])\n",
      "('o', 'hotdog', ['hotdog', 'hotdog', 'hotdog', 'hotdog', 'hotdog', 'hotdog'])\n",
      "('g', 'hotdog', ['hotdog', 'hotdog', 'hotdog', 'hotdog', 'hotdog', 'hotdog'])\n"
     ]
    }
   ],
   "source": [
    "for doggos in dog_of_hot:\n",
    "    print(doggos)"
   ]
  },
  {
   "cell_type": "markdown",
   "metadata": {},
   "source": [
    "- **Iterators are similar to lists, but you can't index to select an item\n",
    "- You'd need to make the iterator a list, if you want to use list methods or index"
   ]
  },
  {
   "cell_type": "code",
   "execution_count": 37,
   "metadata": {},
   "outputs": [],
   "source": [
    "dog_of_hot = zip(small_dog, dog, big_dog)"
   ]
  },
  {
   "cell_type": "code",
   "execution_count": 38,
   "metadata": {
    "scrolled": false
   },
   "outputs": [],
   "source": [
    "dog_list = list(dog_of_hot)"
   ]
  },
  {
   "cell_type": "code",
   "execution_count": 39,
   "metadata": {},
   "outputs": [
    {
     "data": {
      "text/plain": [
       "[('d', 'hotdog', ['hotdog', 'hotdog', 'hotdog', 'hotdog', 'hotdog', 'hotdog']),\n",
       " ('o', 'hotdog', ['hotdog', 'hotdog', 'hotdog', 'hotdog', 'hotdog', 'hotdog']),\n",
       " ('g', 'hotdog', ['hotdog', 'hotdog', 'hotdog', 'hotdog', 'hotdog', 'hotdog'])]"
      ]
     },
     "execution_count": 39,
     "metadata": {},
     "output_type": "execute_result"
    }
   ],
   "source": [
    "dog_list[3:]"
   ]
  },
  {
   "cell_type": "markdown",
   "metadata": {},
   "source": [
    "- if the length of a list is not the same, the result is the shorter one"
   ]
  },
  {
   "cell_type": "code",
   "execution_count": 42,
   "metadata": {
    "scrolled": true
   },
   "outputs": [],
   "source": [
    "big_brain_knowledge = list(zip(\"banana\", [1,0,1,0], (\"I\", \"think\", \"therefore\", \"I\", \"am\")))"
   ]
  },
  {
   "cell_type": "code",
   "execution_count": 43,
   "metadata": {},
   "outputs": [
    {
     "data": {
      "text/plain": [
       "[('b', 1, 'I'), ('a', 0, 'think'), ('n', 1, 'therefore'), ('a', 0, 'I')]"
      ]
     },
     "execution_count": 43,
     "metadata": {},
     "output_type": "execute_result"
    }
   ],
   "source": [
    "big_brain_knowledge"
   ]
  },
  {
   "cell_type": "markdown",
   "metadata": {},
   "source": [
    "- You can also use tuple assignment to go through a list of tuples"
   ]
  },
  {
   "cell_type": "code",
   "execution_count": 44,
   "metadata": {
    "scrolled": true
   },
   "outputs": [
    {
     "name": "stdout",
     "output_type": "stream",
     "text": [
      "1: I b\n",
      "0: think a\n",
      "1: therefore n\n",
      "0: I a\n"
     ]
    }
   ],
   "source": [
    "for char, num, word in big_brain_knowledge:\n",
    "    print(\"{}: {} {}\".format(num, word, char))\n",
    "    "
   ]
  },
  {
   "cell_type": "markdown",
   "metadata": {},
   "source": [
    "- So you can use `for` and `zip` to traverse through different sequences at the same time"
   ]
  },
  {
   "cell_type": "code",
   "execution_count": 46,
   "metadata": {},
   "outputs": [
    {
     "name": "stdout",
     "output_type": "stream",
     "text": [
      "Erectis: False\n",
      "Sapiens: True\n",
      "Neanderthals: False\n",
      "Martians: None\n"
     ]
    }
   ],
   "source": [
    "for status, species in zip([False, True, False, None], [\"Erectis\", \"Sapiens\", \"Neanderthals\", \"Martians\"]):\n",
    "    print(\"{}: {}\".format(species, status))"
   ]
  },
  {
   "cell_type": "markdown",
   "metadata": {},
   "source": [
    "- If you want to iterate through the index and the item of a list, you'd use the `enumerate object`"
   ]
  },
  {
   "cell_type": "code",
   "execution_count": 48,
   "metadata": {},
   "outputs": [],
   "source": [
    "screen_shot_lyrics = \"Love, child, reach, rise Sight, blind, steal, light Mind, scar, clear, fire Clean, right, pure, kind Sun, come, sky, tar Mouth, sand, teeth, tongue Cut, push, reach, inside Feed, breathe, touch, come\".split()"
   ]
  },
  {
   "cell_type": "code",
   "execution_count": 51,
   "metadata": {},
   "outputs": [
    {
     "name": "stdout",
     "output_type": "stream",
     "text": [
      "(0, 'Love,')\n",
      "(1, 'child,')\n",
      "(2, 'reach,')\n",
      "(3, 'rise')\n",
      "(4, 'Sight,')\n",
      "(5, 'blind,')\n",
      "(6, 'steal,')\n",
      "(7, 'light')\n",
      "(8, 'Mind,')\n",
      "(9, 'scar,')\n",
      "(10, 'clear,')\n",
      "(11, 'fire')\n",
      "(12, 'Clean,')\n",
      "(13, 'right,')\n",
      "(14, 'pure,')\n",
      "(15, 'kind')\n",
      "(16, 'Sun,')\n",
      "(17, 'come,')\n",
      "(18, 'sky,')\n",
      "(19, 'tar')\n",
      "(20, 'Mouth,')\n",
      "(21, 'sand,')\n",
      "(22, 'teeth,')\n",
      "(23, 'tongue')\n",
      "(24, 'Cut,')\n",
      "(25, 'push,')\n",
      "(26, 'reach,')\n",
      "(27, 'inside')\n",
      "(28, 'Feed,')\n",
      "(29, 'breathe,')\n",
      "(30, 'touch,')\n",
      "(31, 'come')\n"
     ]
    }
   ],
   "source": [
    "for tup in enumerate(screen_shot_lyrics):\n",
    "    print(tup)"
   ]
  },
  {
   "cell_type": "code",
   "execution_count": 52,
   "metadata": {},
   "outputs": [
    {
     "name": "stdout",
     "output_type": "stream",
     "text": [
      "Michael Gira says Love, on word 0\n",
      "Michael Gira says child, on word 1\n",
      "Michael Gira says reach, on word 2\n",
      "Michael Gira says rise on word 3\n",
      "Michael Gira says Sight, on word 4\n",
      "Michael Gira says blind, on word 5\n",
      "Michael Gira says steal, on word 6\n",
      "Michael Gira says light on word 7\n",
      "Michael Gira says Mind, on word 8\n",
      "Michael Gira says scar, on word 9\n",
      "Michael Gira says clear, on word 10\n",
      "Michael Gira says fire on word 11\n",
      "Michael Gira says Clean, on word 12\n",
      "Michael Gira says right, on word 13\n",
      "Michael Gira says pure, on word 14\n",
      "Michael Gira says kind on word 15\n",
      "Michael Gira says Sun, on word 16\n",
      "Michael Gira says come, on word 17\n",
      "Michael Gira says sky, on word 18\n",
      "Michael Gira says tar on word 19\n",
      "Michael Gira says Mouth, on word 20\n",
      "Michael Gira says sand, on word 21\n",
      "Michael Gira says teeth, on word 22\n",
      "Michael Gira says tongue on word 23\n",
      "Michael Gira says Cut, on word 24\n",
      "Michael Gira says push, on word 25\n",
      "Michael Gira says reach, on word 26\n",
      "Michael Gira says inside on word 27\n",
      "Michael Gira says Feed, on word 28\n",
      "Michael Gira says breathe, on word 29\n",
      "Michael Gira says touch, on word 30\n",
      "Michael Gira says come on word 31\n"
     ]
    }
   ],
   "source": [
    "for index, item in enumerate(screen_shot_lyrics):\n",
    "    print(\"Michael Gira says {} on word {}\".format(item, index))"
   ]
  },
  {
   "cell_type": "markdown",
   "metadata": {},
   "source": [
    "- You can use a list of tuples to initialize a dictionary"
   ]
  },
  {
   "cell_type": "code",
   "execution_count": 54,
   "metadata": {
    "scrolled": true
   },
   "outputs": [
    {
     "data": {
      "text/plain": [
       "[(0, 'Love,'),\n",
       " (1, 'child,'),\n",
       " (2, 'reach,'),\n",
       " (3, 'rise'),\n",
       " (4, 'Sight,'),\n",
       " (5, 'blind,'),\n",
       " (6, 'steal,'),\n",
       " (7, 'light'),\n",
       " (8, 'Mind,'),\n",
       " (9, 'scar,'),\n",
       " (10, 'clear,'),\n",
       " (11, 'fire'),\n",
       " (12, 'Clean,'),\n",
       " (13, 'right,'),\n",
       " (14, 'pure,'),\n",
       " (15, 'kind'),\n",
       " (16, 'Sun,'),\n",
       " (17, 'come,'),\n",
       " (18, 'sky,'),\n",
       " (19, 'tar'),\n",
       " (20, 'Mouth,'),\n",
       " (21, 'sand,'),\n",
       " (22, 'teeth,'),\n",
       " (23, 'tongue'),\n",
       " (24, 'Cut,'),\n",
       " (25, 'push,'),\n",
       " (26, 'reach,'),\n",
       " (27, 'inside'),\n",
       " (28, 'Feed,'),\n",
       " (29, 'breathe,'),\n",
       " (30, 'touch,'),\n",
       " (31, 'come')]"
      ]
     },
     "execution_count": 54,
     "metadata": {},
     "output_type": "execute_result"
    }
   ],
   "source": [
    "list(enumerate(screen_shot_lyrics))"
   ]
  },
  {
   "cell_type": "code",
   "execution_count": 55,
   "metadata": {
    "scrolled": false
   },
   "outputs": [
    {
     "data": {
      "text/plain": [
       "{0: 'Love,',\n",
       " 1: 'child,',\n",
       " 2: 'reach,',\n",
       " 3: 'rise',\n",
       " 4: 'Sight,',\n",
       " 5: 'blind,',\n",
       " 6: 'steal,',\n",
       " 7: 'light',\n",
       " 8: 'Mind,',\n",
       " 9: 'scar,',\n",
       " 10: 'clear,',\n",
       " 11: 'fire',\n",
       " 12: 'Clean,',\n",
       " 13: 'right,',\n",
       " 14: 'pure,',\n",
       " 15: 'kind',\n",
       " 16: 'Sun,',\n",
       " 17: 'come,',\n",
       " 18: 'sky,',\n",
       " 19: 'tar',\n",
       " 20: 'Mouth,',\n",
       " 21: 'sand,',\n",
       " 22: 'teeth,',\n",
       " 23: 'tongue',\n",
       " 24: 'Cut,',\n",
       " 25: 'push,',\n",
       " 26: 'reach,',\n",
       " 27: 'inside',\n",
       " 28: 'Feed,',\n",
       " 29: 'breathe,',\n",
       " 30: 'touch,',\n",
       " 31: 'come'}"
      ]
     },
     "execution_count": 55,
     "metadata": {},
     "output_type": "execute_result"
    }
   ],
   "source": [
    "screen_shot_dict = dict(list(enumerate(screen_shot_lyrics)))\n",
    "screen_shot_dict"
   ]
  },
  {
   "cell_type": "code",
   "execution_count": 62,
   "metadata": {},
   "outputs": [],
   "source": [
    "### look into list comp with tuple assignments\n",
    "### https://stackoverflow.com/questions/21493637/list-comprehension-with-tuple-assignment"
   ]
  },
  {
   "cell_type": "code",
   "execution_count": 61,
   "metadata": {},
   "outputs": [
    {
     "ename": "SyntaxError",
     "evalue": "invalid syntax (<ipython-input-61-756e0fd03047>, line 1)",
     "output_type": "error",
     "traceback": [
      "\u001b[0;36m  File \u001b[0;32m\"<ipython-input-61-756e0fd03047>\"\u001b[0;36m, line \u001b[0;32m1\u001b[0m\n\u001b[0;31m    [i,x for i,x in enumerate(\"\"\"No pain, no death, no fear, no hate\u001b[0m\n\u001b[0m           ^\u001b[0m\n\u001b[0;31mSyntaxError\u001b[0m\u001b[0;31m:\u001b[0m invalid syntax\n"
     ]
    }
   ],
   "source": [
    "[i,x for i,x in enumerate(\"\"\"No pain, no death, no fear, no hate\n",
    "No time, no now, no suffering\n",
    "No touch, no loss, no hand, no sense\n",
    "No wound, no waste, no lust, no fear\n",
    "No mind, no greed, no suffering\n",
    "No thought, no hurt, no hands to reach\n",
    "No knife, no words, no lie, no cure\n",
    "No need, no hate, no will, no speech\n",
    "No dream, no sleep, no suffering\n",
    "No pain, no now, no time, no hear\n",
    "No knife, no mind, no hand, no fear\"\"\".split(\"\\n\"))]"
   ]
  },
  {
   "cell_type": "markdown",
   "metadata": {},
   "source": [
    "- The dictionary method takes a list of tuples and adds them to a dictionary"
   ]
  },
  {
   "cell_type": "markdown",
   "metadata": {},
   "source": [
    "*# For future studies"
   ]
  },
  {
   "cell_type": "code",
   "execution_count": null,
   "metadata": {},
   "outputs": [],
   "source": []
  },
  {
   "cell_type": "markdown",
   "metadata": {},
   "source": [
    "### Chapter 15 Classes and Objects"
   ]
  },
  {
   "cell_type": "markdown",
   "metadata": {},
   "source": [
    "Defining a class"
   ]
  },
  {
   "cell_type": "code",
   "execution_count": null,
   "metadata": {},
   "outputs": [],
   "source": [
    "`class Point():\n",
    "    \"\"\"Represents a point in 2-D space.\"\"\""
   ]
  },
  {
   "cell_type": "markdown",
   "metadata": {},
   "source": [
    "Instantiate a class"
   ]
  },
  {
   "cell_type": "code",
   "execution_count": null,
   "metadata": {},
   "outputs": [],
   "source": [
    "blank = Point()"
   ]
  },
  {
   "cell_type": "markdown",
   "metadata": {},
   "source": [
    "Assigning Attributes"
   ]
  },
  {
   "cell_type": "code",
   "execution_count": null,
   "metadata": {},
   "outputs": [],
   "source": [
    "blank.x = 3.0\n",
    "blank.y = 4.0"
   ]
  },
  {
   "cell_type": "markdown",
   "metadata": {},
   "source": [
    "Instances as Arguments"
   ]
  },
  {
   "cell_type": "code",
   "execution_count": null,
   "metadata": {},
   "outputs": [],
   "source": [
    "def print_point(p):\n",
    "    print(\"(%g, %g)\" % (p.x, p.y))"
   ]
  },
  {
   "cell_type": "code",
   "execution_count": null,
   "metadata": {
    "scrolled": true
   },
   "outputs": [],
   "source": [
    "print_point(blank)"
   ]
  },
  {
   "cell_type": "code",
   "execution_count": null,
   "metadata": {},
   "outputs": [],
   "source": [
    "def distance_between_points(point_1, point_2):\n",
    "    x_distance = point_2.x - point_1.x\n",
    "    y_distance = point_2.y - point_1.y\n",
    "    return (x_distance ** 2 + y_distance ** 2) ** 0.5"
   ]
  },
  {
   "cell_type": "code",
   "execution_count": null,
   "metadata": {},
   "outputs": [],
   "source": [
    "origin = Point()\n",
    "origin.x = 0.0\n",
    "origin.y = 0.0"
   ]
  },
  {
   "cell_type": "code",
   "execution_count": null,
   "metadata": {},
   "outputs": [],
   "source": [
    "distance_between_points(blank, origin)"
   ]
  },
  {
   "cell_type": "markdown",
   "metadata": {},
   "source": [
    "Rectangle Example"
   ]
  },
  {
   "cell_type": "code",
   "execution_count": null,
   "metadata": {},
   "outputs": [],
   "source": [
    "class Rectangle():\n",
    "    \"\"\"Represents a rectangle.\n",
    "    \n",
    "    attribute: width, height, corner.\"\"\""
   ]
  },
  {
   "cell_type": "code",
   "execution_count": null,
   "metadata": {},
   "outputs": [],
   "source": [
    "box = Rectangle()\n",
    "box.width = 100.0\n",
    "box.height = 200.0\n",
    "box.corner = Point()\n",
    "box.corner.x = 0.0\n",
    "box.corner.y = 0.0"
   ]
  },
  {
   "cell_type": "markdown",
   "metadata": {},
   "source": [
    "Instances as Return Values"
   ]
  },
  {
   "cell_type": "code",
   "execution_count": null,
   "metadata": {},
   "outputs": [],
   "source": [
    "def find_center(rect):\n",
    "    p = Point()\n",
    "    p.x = rect.corner.x + rect.width / 2\n",
    "    p.y = rect.corner.y + rect.height / 2\n",
    "    return p"
   ]
  },
  {
   "cell_type": "code",
   "execution_count": null,
   "metadata": {},
   "outputs": [],
   "source": [
    "center = find_center(box)\n",
    "print_point(center)"
   ]
  },
  {
   "cell_type": "markdown",
   "metadata": {},
   "source": [
    "Objects are Mutable"
   ]
  },
  {
   "cell_type": "code",
   "execution_count": null,
   "metadata": {},
   "outputs": [],
   "source": [
    "def grow_rectangle(rect, dwidth, dheight):\n",
    "    rect.width += dwidth\n",
    "    rect.height += dheight"
   ]
  },
  {
   "cell_type": "code",
   "execution_count": null,
   "metadata": {},
   "outputs": [],
   "source": [
    "box.width, box.height"
   ]
  },
  {
   "cell_type": "code",
   "execution_count": null,
   "metadata": {},
   "outputs": [],
   "source": [
    "grow_rectangle(box, 50, 100)\n",
    "box.width, box.height"
   ]
  },
  {
   "cell_type": "code",
   "execution_count": null,
   "metadata": {},
   "outputs": [],
   "source": [
    "def move_rectangle(rect, dx, dy):\n",
    "    rect.corner.x += dx\n",
    "    rect.corner.y += dy"
   ]
  },
  {
   "cell_type": "code",
   "execution_count": null,
   "metadata": {},
   "outputs": [],
   "source": [
    "box.corner.x, box.corner.y"
   ]
  },
  {
   "cell_type": "code",
   "execution_count": null,
   "metadata": {},
   "outputs": [],
   "source": [
    "move_rectangle(box, 50, 100)\n",
    "box.corner.x, box.corner.y"
   ]
  },
  {
   "cell_type": "markdown",
   "metadata": {},
   "source": [
    "Copying"
   ]
  },
  {
   "cell_type": "code",
   "execution_count": null,
   "metadata": {},
   "outputs": [],
   "source": [
    "import copy"
   ]
  },
  {
   "cell_type": "code",
   "execution_count": null,
   "metadata": {},
   "outputs": [],
   "source": [
    "p1 = Point()\n",
    "p1.x = 3.0\n",
    "p1.y = 4.0"
   ]
  },
  {
   "cell_type": "markdown",
   "metadata": {},
   "source": [
    "Shallow Copy"
   ]
  },
  {
   "cell_type": "code",
   "execution_count": null,
   "metadata": {},
   "outputs": [],
   "source": [
    "p2 = copy.copy(p1)"
   ]
  },
  {
   "cell_type": "code",
   "execution_count": null,
   "metadata": {},
   "outputs": [],
   "source": [
    "print_point(p1)"
   ]
  },
  {
   "cell_type": "code",
   "execution_count": null,
   "metadata": {
    "scrolled": true
   },
   "outputs": [],
   "source": [
    "print_point(p2)"
   ]
  },
  {
   "cell_type": "code",
   "execution_count": null,
   "metadata": {},
   "outputs": [],
   "source": [
    "p1 is p2"
   ]
  },
  {
   "cell_type": "code",
   "execution_count": null,
   "metadata": {},
   "outputs": [],
   "source": [
    "# == is the same as the \"is\" operator for programmer defined objects until we define it otherwise\n",
    "p1 == p2"
   ]
  },
  {
   "cell_type": "code",
   "execution_count": null,
   "metadata": {},
   "outputs": [],
   "source": [
    "box2 = copy.copy(box)"
   ]
  },
  {
   "cell_type": "code",
   "execution_count": null,
   "metadata": {},
   "outputs": [],
   "source": [
    "box2 is box"
   ]
  },
  {
   "cell_type": "code",
   "execution_count": null,
   "metadata": {},
   "outputs": [],
   "source": [
    "#copy.copy copies the objects and it's references, but not the embedded objects\n",
    "box2.corner is box.corner"
   ]
  },
  {
   "cell_type": "markdown",
   "metadata": {},
   "source": [
    "Deep Copy"
   ]
  },
  {
   "cell_type": "code",
   "execution_count": null,
   "metadata": {},
   "outputs": [],
   "source": [
    "box3 = copy.deepcopy(box)"
   ]
  },
  {
   "cell_type": "code",
   "execution_count": null,
   "metadata": {},
   "outputs": [],
   "source": [
    "box3 is box"
   ]
  },
  {
   "cell_type": "code",
   "execution_count": null,
   "metadata": {},
   "outputs": [],
   "source": [
    "#copy.deepcopy copies the object, object it refers to, and embedded objects\n",
    "box3.corner is box.corner"
   ]
  },
  {
   "cell_type": "markdown",
   "metadata": {},
   "source": [
    "Debugging"
   ]
  },
  {
   "cell_type": "code",
   "execution_count": null,
   "metadata": {},
   "outputs": [],
   "source": [
    "p = Point()\n",
    "p.x = 3\n",
    "p.y = 4"
   ]
  },
  {
   "cell_type": "code",
   "execution_count": null,
   "metadata": {},
   "outputs": [],
   "source": [
    "#if you want to know what type an object is\n",
    "type(p)"
   ]
  },
  {
   "cell_type": "code",
   "execution_count": null,
   "metadata": {},
   "outputs": [],
   "source": [
    "#to check if an instance is of a class\n",
    "isinstance(p, Point)"
   ]
  },
  {
   "cell_type": "code",
   "execution_count": null,
   "metadata": {},
   "outputs": [],
   "source": [
    "#to check if an instance has a specific attribute\n",
    "hasattr(p, \"x\")"
   ]
  },
  {
   "cell_type": "code",
   "execution_count": null,
   "metadata": {},
   "outputs": [],
   "source": [
    "hasattr(p, \"z\")"
   ]
  },
  {
   "cell_type": "code",
   "execution_count": null,
   "metadata": {},
   "outputs": [],
   "source": [
    "#to check if an instance has an attribute, if not then assigns one\n",
    "try:\n",
    "    z = p.z\n",
    "except AttributeError:\n",
    "    z = 0"
   ]
  },
  {
   "cell_type": "code",
   "execution_count": null,
   "metadata": {},
   "outputs": [],
   "source": [
    "z"
   ]
  },
  {
   "cell_type": "markdown",
   "metadata": {},
   "source": [
    "### Chapter 16 Classes and Functions"
   ]
  },
  {
   "cell_type": "markdown",
   "metadata": {},
   "source": [
    "Time"
   ]
  },
  {
   "cell_type": "code",
   "execution_count": null,
   "metadata": {},
   "outputs": [],
   "source": [
    "class Time:\n",
    "    \"\"\"Represents the time of day. \n",
    "    \n",
    "    attributes: hour, minute, second\"\"\""
   ]
  },
  {
   "cell_type": "code",
   "execution_count": null,
   "metadata": {},
   "outputs": [],
   "source": [
    "def print_time(t):\n",
    "    print(\"%.2d:%.2d:%.2d\" % (t.hour, t.minute, t.second))"
   ]
  },
  {
   "cell_type": "code",
   "execution_count": null,
   "metadata": {},
   "outputs": [],
   "source": [
    "time = Time()\n",
    "time.hour = 11\n",
    "time.minute = 59\n",
    "time.second = 30"
   ]
  },
  {
   "cell_type": "code",
   "execution_count": null,
   "metadata": {},
   "outputs": [],
   "source": [
    "print_time(time)"
   ]
  },
  {
   "cell_type": "code",
   "execution_count": null,
   "metadata": {},
   "outputs": [],
   "source": [
    "def is_after(t1,t2):\n",
    "    #tuples are compared position by position\n",
    "    return (t1.hour, t1.minute, t1.second) > (t2.hour, t2.minute, t2.second)"
   ]
  },
  {
   "cell_type": "code",
   "execution_count": null,
   "metadata": {},
   "outputs": [],
   "source": [
    "time_2 = Time()\n",
    "time_2.hour = 12\n",
    "time_2.minute = 0\n",
    "time_2.second = 0"
   ]
  },
  {
   "cell_type": "code",
   "execution_count": null,
   "metadata": {},
   "outputs": [],
   "source": [
    "is_after(time_2, time)"
   ]
  },
  {
   "cell_type": "markdown",
   "metadata": {},
   "source": [
    "Pure Functions"
   ]
  },
  {
   "cell_type": "markdown",
   "metadata": {},
   "source": [
    "- Does not modify any of the objects passed to it as arguments and it has no effect other than returning a value"
   ]
  },
  {
   "cell_type": "code",
   "execution_count": null,
   "metadata": {},
   "outputs": [],
   "source": [
    "def add_time(t1, t2):\n",
    "    sum = Time()\n",
    "    sum.hour = t1.hour + t2.hour\n",
    "    sum.minute = t1.minute + t2.minute    \n",
    "    sum.second = t1.second + t2.second\n",
    "    \n",
    "    if sum.second >= 60:\n",
    "        sum.second -= 60\n",
    "        sum.minute += 1\n",
    "    \n",
    "    if sum.minute >= 60:\n",
    "        sum.minute -= 60\n",
    "        sum.hour += 1\n",
    "    \n",
    "    return sum"
   ]
  },
  {
   "cell_type": "code",
   "execution_count": null,
   "metadata": {},
   "outputs": [],
   "source": [
    "total_time = add_time(time, time_2)\n",
    "print_time(total_time)"
   ]
  },
  {
   "cell_type": "markdown",
   "metadata": {},
   "source": [
    "Modifies"
   ]
  },
  {
   "cell_type": "markdown",
   "metadata": {},
   "source": [
    "- Modifies the object it gets as a parameter"
   ]
  },
  {
   "cell_type": "code",
   "execution_count": null,
   "metadata": {},
   "outputs": [],
   "source": [
    "def increment(t1, seconds):\n",
    "    \"\"\"Adds seconds to a Time object.\"\"\"\n",
    "    assert valid_time(t1)\n",
    "    seconds += time_to_int(t1)\n",
    "    return int_to_time(seconds)"
   ]
  },
  {
   "cell_type": "markdown",
   "metadata": {},
   "source": [
    "Functional Programming Style"
   ]
  },
  {
   "cell_type": "markdown",
   "metadata": {},
   "source": [
    "- Write pure functions whenever it is reasonable, and only resort to modifiers only if there is a compelling advantage"
   ]
  },
  {
   "cell_type": "markdown",
   "metadata": {},
   "source": [
    "**Invariants**: something that should always be true of a program"
   ]
  },
  {
   "cell_type": "markdown",
   "metadata": {},
   "source": [
    "- **assert statement**: checks given invariant and raises an exception if it fails\n",
    "- https://www.programiz.com/python-programming/assert-statement"
   ]
  },
  {
   "cell_type": "markdown",
   "metadata": {},
   "source": [
    "### Chapter 17 Classes and Methods"
   ]
  },
  {
   "cell_type": "markdown",
   "metadata": {},
   "source": [
    "- **method**: function that is associated with a particular class. They are defined inside a class definition. "
   ]
  },
  {
   "cell_type": "code",
   "execution_count": null,
   "metadata": {},
   "outputs": [],
   "source": [
    "class Time():\n",
    "    \"\"\"Represents the time of day\"\"\"\n",
    "    def print_time(self):\n",
    "        print(\"%.2d:%.2d:%.2d\" % (self.hour, self.minute, self.second))"
   ]
  },
  {
   "cell_type": "markdown",
   "metadata": {},
   "source": [
    "- print_time is the method, start is the object that the method is invoked on(or the subject)\n",
    "- the subject is assigned to the first parameter(in this case, start is assigned to self) \n",
    "- the objects are the active agents, for start.print_time -> \"Hey start! Print yourself!\""
   ]
  },
  {
   "cell_type": "code",
   "execution_count": null,
   "metadata": {},
   "outputs": [],
   "source": [
    "start = Time()\n",
    "start.hour = 9\n",
    "start.minute = 45\n",
    "start.second = 00"
   ]
  },
  {
   "cell_type": "code",
   "execution_count": null,
   "metadata": {},
   "outputs": [],
   "source": [
    "start.print_time()"
   ]
  },
  {
   "cell_type": "markdown",
   "metadata": {},
   "source": [
    "The ``__init__`` method"
   ]
  },
  {
   "cell_type": "markdown",
   "metadata": {},
   "source": [
    "- ``__init__`` gets invoked when an object is instantiated\n",
    "- The parameters of ``__init__`` should have the same names as the attributes"
   ]
  },
  {
   "cell_type": "code",
   "execution_count": null,
   "metadata": {},
   "outputs": [],
   "source": [
    "class Point():\n",
    "    \"\"\"Represents a point in 2-D space.\"\"\"\n",
    "    def __init__(self, x=0, y=0):\n",
    "        self.x = x\n",
    "        self.y = y"
   ]
  },
  {
   "cell_type": "code",
   "execution_count": null,
   "metadata": {},
   "outputs": [],
   "source": [
    "new_point = Point()\n",
    "print(new_point.x, new_point.y)"
   ]
  },
  {
   "cell_type": "markdown",
   "metadata": {},
   "source": [
    "The ``__str__`` method"
   ]
  },
  {
   "cell_type": "markdown",
   "metadata": {},
   "source": [
    "-  ``__str__`` returns a string representation of an object"
   ]
  },
  {
   "cell_type": "code",
   "execution_count": null,
   "metadata": {},
   "outputs": [],
   "source": [
    "class Point():\n",
    "    \"\"\"Represents a point in 2-D space.\"\"\"\n",
    "    def __init__(self, x=0, y=0):\n",
    "        self.x = x\n",
    "        self.y = y\n",
    "    \n",
    "    def __str__(self):\n",
    "        return '({}, {})'.format(self.x, self.y)"
   ]
  },
  {
   "cell_type": "code",
   "execution_count": null,
   "metadata": {},
   "outputs": [],
   "source": [
    "newer_point = Point(1,2)\n",
    "print(newer_point)"
   ]
  },
  {
   "cell_type": "markdown",
   "metadata": {},
   "source": [
    "Operator Overloading"
   ]
  },
  {
   "cell_type": "markdown",
   "metadata": {},
   "source": [
    "- Changing the behvaior of an operator so that it works for programmer defined objects"
   ]
  },
  {
   "cell_type": "code",
   "execution_count": null,
   "metadata": {},
   "outputs": [],
   "source": [
    "class Point():\n",
    "    \"\"\"Represents a point in 2-D space.\"\"\"\n",
    "    def __init__(self, x=0, y=0):\n",
    "        self.x = x\n",
    "        self.y = y\n",
    "    \n",
    "    def __str__(self):\n",
    "        return '({}, {})'.format(self.x, self.y)\n",
    "    \n",
    "    def __add__(self, other):\n",
    "        sum = Point()\n",
    "        sum.x = self.x + other.x\n",
    "        sum.y = self.y + other.y\n",
    "        return sum"
   ]
  },
  {
   "cell_type": "code",
   "execution_count": null,
   "metadata": {},
   "outputs": [],
   "source": [
    "point_1 = Point(1,2)\n",
    "point_2 = Point(3,4)\n",
    "print(point_1 + point_2)"
   ]
  },
  {
   "cell_type": "markdown",
   "metadata": {},
   "source": [
    "Type Based Dispatch"
   ]
  },
  {
   "cell_type": "markdown",
   "metadata": {},
   "source": [
    "- Changing the computation to a different method based on the type of argument"
   ]
  },
  {
   "cell_type": "code",
   "execution_count": null,
   "metadata": {},
   "outputs": [],
   "source": [
    "class Point():\n",
    "    \"\"\"Represents a point in 2-D space.\"\"\"\n",
    "    def __init__(self, x=0, y=0):\n",
    "        self.x = x\n",
    "        self.y = y\n",
    "    \n",
    "    def __str__(self):\n",
    "        return '({}, {})'.format(self.x, self.y)\n",
    "    \n",
    "    def __add__(self, other):\n",
    "        sum = Point()\n",
    "        if isinstance(other, Point):\n",
    "            sum.x = self.x + other.x\n",
    "            sum.y = self.y + other.y\n",
    "            return sum\n",
    "        else: \n",
    "            sum.x = self.x + other[0]\n",
    "            sum.y = self.y + other[1]\n",
    "            return sum\n",
    "\n",
    "    #right side add\n",
    "    def __radd__(self, other):\n",
    "        return self.__add__(other)"
   ]
  },
  {
   "cell_type": "code",
   "execution_count": null,
   "metadata": {},
   "outputs": [],
   "source": [
    "point_1 = Point(1,2)"
   ]
  },
  {
   "cell_type": "code",
   "execution_count": null,
   "metadata": {},
   "outputs": [],
   "source": [
    "print(point_1 + (2,3))"
   ]
  },
  {
   "cell_type": "code",
   "execution_count": null,
   "metadata": {},
   "outputs": [],
   "source": [
    "print((2,3) + point_1)"
   ]
  },
  {
   "cell_type": "markdown",
   "metadata": {},
   "source": [
    "Debugging"
   ]
  },
  {
   "cell_type": "markdown",
   "metadata": {},
   "source": [
    "- Access attributes with the built in function ``vars()``, that takes an object and returns a dictionary of attribute names to their values"
   ]
  },
  {
   "cell_type": "code",
   "execution_count": null,
   "metadata": {},
   "outputs": [],
   "source": [
    "vars(point_1)"
   ]
  },
  {
   "cell_type": "code",
   "execution_count": null,
   "metadata": {},
   "outputs": [],
   "source": [
    "getattr(point_1, \"x\")"
   ]
  },
  {
   "cell_type": "code",
   "execution_count": null,
   "metadata": {},
   "outputs": [],
   "source": [
    "def print_attributes(obj):\n",
    "    \"\"\"Prints each attribute name and it's corresponding value for a given object\"\"\"\n",
    "    #iterates through the vars attributes dictionary\n",
    "    for attr in vars(obj):\n",
    "        #attr is the attribute\n",
    "        #getattr(obj, attr) is the value\n",
    "        print(attr, getattr(obj, attr))"
   ]
  },
  {
   "cell_type": "code",
   "execution_count": null,
   "metadata": {},
   "outputs": [],
   "source": [
    "print_attributes(point_1)"
   ]
  },
  {
   "cell_type": "markdown",
   "metadata": {},
   "source": [
    "### Chapter 18 Inheritence ###"
   ]
  },
  {
   "cell_type": "code",
   "execution_count": null,
   "metadata": {},
   "outputs": [],
   "source": []
  }
 ],
 "metadata": {
  "kernelspec": {
   "display_name": "Python 3",
   "language": "python",
   "name": "python3"
  },
  "language_info": {
   "codemirror_mode": {
    "name": "ipython",
    "version": 3
   },
   "file_extension": ".py",
   "mimetype": "text/x-python",
   "name": "python",
   "nbconvert_exporter": "python",
   "pygments_lexer": "ipython3",
   "version": "3.7.6"
  }
 },
 "nbformat": 4,
 "nbformat_minor": 2
}
