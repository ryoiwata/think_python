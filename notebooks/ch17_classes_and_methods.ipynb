{
 "cells": [
  {
   "cell_type": "markdown",
   "metadata": {},
   "source": [
    "# Chapter 17: Classes and Methods"
   ]
  },
  {
   "cell_type": "markdown",
   "metadata": {},
   "source": [
    "## Object Orientated Features"
   ]
  },
  {
   "cell_type": "markdown",
   "metadata": {},
   "source": [
    "- `object orientated programming` is:\n",
    "    - `class`es and `method` definitions\n",
    "    - most computation is based on the objects\n",
    "    - objects are like things in the world and methods are their actions\n",
    "    "
   ]
  },
  {
   "cell_type": "markdown",
   "metadata": {},
   "source": [
    "- `method`s are functions that are closely associated with a particular class. They are defined within a class. "
   ]
  },
  {
   "cell_type": "code",
   "execution_count": 1,
   "metadata": {},
   "outputs": [],
   "source": [
    "class Time():\n",
    "    \"\"\"\n",
    "    Object that can pretend to be a watch\n",
    "    \"\"\"\n",
    "    \n",
    "    def print_time(self):\n",
    "        print(\"{}:{}:{}\".format(self.hour, self.minute, self.second))"
   ]
  },
  {
   "cell_type": "code",
   "execution_count": 2,
   "metadata": {},
   "outputs": [],
   "source": [
    "now = Time()\n",
    "now.hour = 22\n",
    "now.minute = 36\n",
    "now.second = 56"
   ]
  },
  {
   "cell_type": "markdown",
   "metadata": {},
   "source": [
    "- To call a method, we'll use `dot notation`. The method is invoked on by the object\n",
    "- `instance_name.method()`\n",
    "- In the method, the first parameter is the object itself. `self`. If you use another instance of the object is used as a parameter, then `other` is conventional. "
   ]
  },
  {
   "cell_type": "code",
   "execution_count": 3,
   "metadata": {},
   "outputs": [
    {
     "name": "stdout",
     "output_type": "stream",
     "text": [
      "22:36:56\n"
     ]
    }
   ],
   "source": [
    "now.print_time()"
   ]
  },
  {
   "cell_type": "code",
   "execution_count": null,
   "metadata": {},
   "outputs": [],
   "source": []
  }
 ],
 "metadata": {
  "kernelspec": {
   "display_name": "Python 3",
   "language": "python",
   "name": "python3"
  },
  "language_info": {
   "codemirror_mode": {
    "name": "ipython",
    "version": 3
   },
   "file_extension": ".py",
   "mimetype": "text/x-python",
   "name": "python",
   "nbconvert_exporter": "python",
   "pygments_lexer": "ipython3",
   "version": "3.7.7"
  }
 },
 "nbformat": 4,
 "nbformat_minor": 4
}
