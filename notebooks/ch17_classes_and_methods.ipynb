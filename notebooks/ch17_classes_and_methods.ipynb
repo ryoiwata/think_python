{
 "cells": [
  {
   "cell_type": "markdown",
   "metadata": {},
   "source": [
    "# Chapter 17: Classes and Methods"
   ]
  },
  {
   "cell_type": "markdown",
   "metadata": {},
   "source": [
    "## Object Orientated Features"
   ]
  },
  {
   "cell_type": "markdown",
   "metadata": {},
   "source": [
    "- `object orientated programming` is:\n",
    "    - `class`es and `method` definitions\n",
    "    - most computation is based on the objects\n",
    "    - objects are like things in the world and methods are their actions\n",
    "    "
   ]
  },
  {
   "cell_type": "markdown",
   "metadata": {},
   "source": [
    "- `method`s are functions that are closely associated with a particular class. They are defined within a class. "
   ]
  },
  {
   "cell_type": "code",
   "execution_count": 1,
   "metadata": {},
   "outputs": [],
   "source": [
    "class Time():\n",
    "    \"\"\"\n",
    "    Object that can pretend to be a watch\n",
    "    \"\"\"\n",
    "    def __init__(self, hour=0, minute=0, second=0):\n",
    "        self.hour = hour\n",
    "        self.minute = minute\n",
    "        self.second = second\n",
    "    \n",
    "    def print_time(self):\n",
    "        print(\"{}:{}:{}\".format(self.hour, self.minute, self.second))\n",
    "        \n",
    "    def time_to_int(self):\n",
    "        return self.hour * 3600 + self.minute * 60 + self.second"
   ]
  },
  {
   "cell_type": "code",
   "execution_count": 2,
   "metadata": {},
   "outputs": [],
   "source": [
    "now = Time()\n",
    "now.hour = 22\n",
    "now.minute = 36\n",
    "now.second = 56"
   ]
  },
  {
   "cell_type": "markdown",
   "metadata": {},
   "source": [
    "- To call a method, we'll use `dot notation`. The method is invoked on by the object\n",
    "- `instance_name.method()`\n",
    "- In the method, the first parameter is the object itself. `self`. If you use another instance of the object is used as a parameter, then `other` is conventional. "
   ]
  },
  {
   "cell_type": "code",
   "execution_count": 3,
   "metadata": {},
   "outputs": [
    {
     "name": "stdout",
     "output_type": "stream",
     "text": [
      "22:36:56\n"
     ]
    }
   ],
   "source": [
    "now.print_time()"
   ]
  },
  {
   "cell_type": "markdown",
   "metadata": {},
   "source": [
    "## The `init` Method"
   ]
  },
  {
   "cell_type": "markdown",
   "metadata": {},
   "source": [
    "- the `init` method gets invoked when an object is instantiated\n",
    "- it's common to have the parameters of init be the same name as the attributes"
   ]
  },
  {
   "cell_type": "markdown",
   "metadata": {},
   "source": [
    "## The `__str__` Method"
   ]
  },
  {
   "cell_type": "markdown",
   "metadata": {},
   "source": [
    "- the `__str__` method returns a string representation of the object\n",
    "- this is useful for debugging\n",
    "- this is called operator overloading because we're changing the behavior of an operator so that it works better with your object"
   ]
  },
  {
   "cell_type": "code",
   "execution_count": 4,
   "metadata": {},
   "outputs": [],
   "source": [
    "class Time():\n",
    "    \"\"\"\n",
    "    Object that can pretend to be a watch\n",
    "    \"\"\"\n",
    "    def __init__(self, hour=0, minute=0, second=0):\n",
    "        self.hour = hour\n",
    "        self.minute = minute\n",
    "        self.second = second\n",
    "    \n",
    "    def __str__(self):\n",
    "        return \"{}:{}:{}\".format(self.hour, self.minute, self.second)\n",
    "    \n",
    "    def time_to_int(self):\n",
    "        return self.hour * 3600 + self.minute * 60 + self.second"
   ]
  },
  {
   "cell_type": "code",
   "execution_count": 5,
   "metadata": {},
   "outputs": [
    {
     "name": "stdout",
     "output_type": "stream",
     "text": [
      "22:17:43\n"
     ]
    }
   ],
   "source": [
    "now_then = Time(hour=22, minute=17, second=43)\n",
    "print(now_then)"
   ]
  },
  {
   "cell_type": "markdown",
   "metadata": {},
   "source": [
    "## Type Based Dispatch"
   ]
  },
  {
   "cell_type": "markdown",
   "metadata": {},
   "source": [
    "- Type based dispatch is when you have different methods run based on the type of the argument"
   ]
  },
  {
   "cell_type": "code",
   "execution_count": 6,
   "metadata": {},
   "outputs": [],
   "source": [
    "class Time():\n",
    "    \"\"\"\n",
    "    Object that can pretend to be a watch\n",
    "    \"\"\"\n",
    "    def __init__(self, hour=0, minute=0, second=0):\n",
    "        self.hour = hour\n",
    "        self.minute = minute\n",
    "        self.second = second\n",
    "    \n",
    "    def __str__(self):\n",
    "        return \"{}:{}:{}\".format(self.hour, self.minute, self.second)\n",
    "    \n",
    "    def __add__(self, other):\n",
    "        \"\"\"Adds two Time objects or a Time object and a number.\n",
    "        other: Time object or number of seconds\n",
    "        \"\"\"\n",
    "        if isinstance(other, Time):\n",
    "            return self.add_time(other)\n",
    "        else:\n",
    "            return self.increment(other)\n",
    "\n",
    "    def add_time(self, other):\n",
    "        \"\"\"Adds two time objects.\"\"\"\n",
    "        assert self.is_valid() and other.is_valid()\n",
    "        seconds = self.time_to_int() + other.time_to_int()\n",
    "        return int_to_time(seconds)\n",
    "\n",
    "    def increment(self, seconds):\n",
    "        \"\"\"Returns a new Time that is the sum of this time and seconds.\"\"\"\n",
    "        seconds += self.time_to_int()\n",
    "        return int_to_time(seconds)\n",
    "    \n",
    "    def time_to_int(self):\n",
    "        return self.hour * 3600 + self.minute * 60 + self.second\n",
    "    \n",
    "    def int_to_time(seconds):\n",
    "        \"\"\"Makes a new Time object.\n",
    "        seconds: int seconds since midnight.\n",
    "        \"\"\"\n",
    "        minutes, second = divmod(seconds, 60)\n",
    "        hour, minute = divmod(minutes, 60)\n",
    "        time = Time(hour, minute, second)\n",
    "        return time"
   ]
  },
  {
   "cell_type": "markdown",
   "metadata": {},
   "source": [
    "## Polymorphism"
   ]
  },
  {
   "cell_type": "markdown",
   "metadata": {},
   "source": [
    "- Functions or methods that work with multiple types of data is `polymorphic`. \n",
    "- (i.e. if it works for lists, it is likely to work for tuples, strings, and dictionaries if it's a function that uses iteration)"
   ]
  },
  {
   "cell_type": "markdown",
   "metadata": {},
   "source": [
    "## Interface and Implementation"
   ]
  },
  {
   "cell_type": "markdown",
   "metadata": {},
   "source": [
    "- It is recommended to keep interfaces seperate from implementation.\n",
    "- In OOP, this would having the methods of a class not be dependent on how the attributes are represented. Make it so that you can change the implementation without changing the interface"
   ]
  },
  {
   "cell_type": "markdown",
   "metadata": {},
   "source": [
    "## Debugging"
   ]
  },
  {
   "cell_type": "markdown",
   "metadata": {},
   "source": [
    "- Make sure to initialize objects with all the attributes. This will eliminate confusion with new attributes. \n",
    "- To look at all the attributes and the value of an object use `vars`\n",
    "- To check if an object has an attribute, use `hasattr`"
   ]
  },
  {
   "cell_type": "code",
   "execution_count": 8,
   "metadata": {},
   "outputs": [
    {
     "data": {
      "text/plain": [
       "{'hour': 22, 'minute': 17, 'second': 43}"
      ]
     },
     "execution_count": 8,
     "metadata": {},
     "output_type": "execute_result"
    }
   ],
   "source": [
    "vars(now_then)"
   ]
  },
  {
   "cell_type": "code",
   "execution_count": 9,
   "metadata": {},
   "outputs": [
    {
     "data": {
      "text/plain": [
       "False"
      ]
     },
     "execution_count": 9,
     "metadata": {},
     "output_type": "execute_result"
    }
   ],
   "source": [
    "hasattr(now_then, \"days\")"
   ]
  },
  {
   "cell_type": "code",
   "execution_count": null,
   "metadata": {},
   "outputs": [],
   "source": []
  }
 ],
 "metadata": {
  "kernelspec": {
   "display_name": "Python 3",
   "language": "python",
   "name": "python3"
  },
  "language_info": {
   "codemirror_mode": {
    "name": "ipython",
    "version": 3
   },
   "file_extension": ".py",
   "mimetype": "text/x-python",
   "name": "python",
   "nbconvert_exporter": "python",
   "pygments_lexer": "ipython3",
   "version": "3.7.6"
  }
 },
 "nbformat": 4,
 "nbformat_minor": 4
}
