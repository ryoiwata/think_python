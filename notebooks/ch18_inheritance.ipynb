{
 "cells": [
  {
   "cell_type": "markdown",
   "metadata": {},
   "source": [
    "# Chapter 18: Inheritance"
   ]
  },
  {
   "cell_type": "markdown",
   "metadata": {},
   "source": [
    "- `inheritance`is defining a class that a modified version of an existing class\n",
    "- Variable that are defined within a class but not in a method are `class attributes` because they're associated with a class but not any particular instance\n",
    "- Tuple comparison can be used to compare different aspects of things if the current aspect is the same"
   ]
  },
  {
   "cell_type": "code",
   "execution_count": 1,
   "metadata": {},
   "outputs": [],
   "source": [
    "import random"
   ]
  },
  {
   "cell_type": "markdown",
   "metadata": {},
   "source": [
    "## Card Objects"
   ]
  },
  {
   "cell_type": "code",
   "execution_count": 2,
   "metadata": {},
   "outputs": [],
   "source": [
    "class Card:\n",
    "    \"\"\"\n",
    "    Spades > 3\n",
    "    Heart > 2\n",
    "    Diamond > 1\n",
    "    Clubs > 0\n",
    "    Jack > 11\n",
    "    Queen > 12\n",
    "    King > 13\n",
    "    \"\"\"\n",
    "    rank_names = [None, \"Ace\", \"2\", \"3\", \"4\", \"5\", \"6\", \"7\", \"8\", \"9\", \"10\", \"Jack\", \"Queen\", \"King\"]\n",
    "    suit_names = [\"Clubs\", \"Diamonds\", \"Hearts\", \"Spades\"]\n",
    "    def __init__(self, suit=0, rank=2):\n",
    "        self.suit = suit\n",
    "        self.rank = rank\n",
    "    def __str__(self):\n",
    "        return \"{} of {}\".format(Card.suit_names[self.suit], Card.rank_names[self.rank])\n",
    "    def __lt__(self, other):\n",
    "        t1 = self.suit, self.rank\n",
    "        t2 = other.suit, other.rank\n",
    "        return t1 < t2"
   ]
  },
  {
   "cell_type": "code",
   "execution_count": 3,
   "metadata": {},
   "outputs": [],
   "source": [
    "queen_of_hearts = Card(suit=3, rank=12)"
   ]
  },
  {
   "cell_type": "code",
   "execution_count": 4,
   "metadata": {},
   "outputs": [
    {
     "name": "stdout",
     "output_type": "stream",
     "text": [
      "Spades of Queen\n"
     ]
    }
   ],
   "source": [
    "print(queen_of_hearts)"
   ]
  },
  {
   "cell_type": "markdown",
   "metadata": {},
   "source": [
    "## Deck Object"
   ]
  },
  {
   "cell_type": "code",
   "execution_count": 5,
   "metadata": {},
   "outputs": [],
   "source": [
    "class Deck:\n",
    "    def __init__(self):\n",
    "        # nested list comp!\n",
    "        # https://stackoverflow.com/questions/3633140/nested-for-loops-using-list-comprehension\n",
    "        self.cards = [Card(suit, rank) for suit in range(4) for rank in range(1, 14)]\n",
    "    def __str__(self):\n",
    "        card_list = [str(card) for card in self.cards]\n",
    "        return \"\\n\".join(card_list)\n",
    "    def pop_card(self):\n",
    "        return self.cards.pop()\n",
    "    def add_card(self, card):\n",
    "        self.cards.append(card)\n",
    "    def shuffle(self):\n",
    "        random.shuffle(self.cards)\n",
    "    def sort(self):\n",
    "        self.cards.sort()\n",
    "        "
   ]
  },
  {
   "cell_type": "code",
   "execution_count": 6,
   "metadata": {},
   "outputs": [],
   "source": [
    "poker_night = Deck()"
   ]
  },
  {
   "cell_type": "markdown",
   "metadata": {},
   "source": [
    "- If you want to print out a lot of lines, you can make a list and join them with the new space character"
   ]
  },
  {
   "cell_type": "code",
   "execution_count": 7,
   "metadata": {},
   "outputs": [],
   "source": [
    "poker_night.sort()"
   ]
  },
  {
   "cell_type": "code",
   "execution_count": 8,
   "metadata": {},
   "outputs": [
    {
     "name": "stdout",
     "output_type": "stream",
     "text": [
      "Clubs of Ace\n",
      "Clubs of 2\n",
      "Clubs of 3\n",
      "Clubs of 4\n",
      "Clubs of 5\n",
      "Clubs of 6\n",
      "Clubs of 7\n",
      "Clubs of 8\n",
      "Clubs of 9\n",
      "Clubs of 10\n",
      "Clubs of Jack\n",
      "Clubs of Queen\n",
      "Clubs of King\n",
      "Diamonds of Ace\n",
      "Diamonds of 2\n",
      "Diamonds of 3\n",
      "Diamonds of 4\n",
      "Diamonds of 5\n",
      "Diamonds of 6\n",
      "Diamonds of 7\n",
      "Diamonds of 8\n",
      "Diamonds of 9\n",
      "Diamonds of 10\n",
      "Diamonds of Jack\n",
      "Diamonds of Queen\n",
      "Diamonds of King\n",
      "Hearts of Ace\n",
      "Hearts of 2\n",
      "Hearts of 3\n",
      "Hearts of 4\n",
      "Hearts of 5\n",
      "Hearts of 6\n",
      "Hearts of 7\n",
      "Hearts of 8\n",
      "Hearts of 9\n",
      "Hearts of 10\n",
      "Hearts of Jack\n",
      "Hearts of Queen\n",
      "Hearts of King\n",
      "Spades of Ace\n",
      "Spades of 2\n",
      "Spades of 3\n",
      "Spades of 4\n",
      "Spades of 5\n",
      "Spades of 6\n",
      "Spades of 7\n",
      "Spades of 8\n",
      "Spades of 9\n",
      "Spades of 10\n",
      "Spades of Jack\n",
      "Spades of Queen\n",
      "Spades of King\n"
     ]
    }
   ],
   "source": [
    "print(poker_night)"
   ]
  },
  {
   "cell_type": "markdown",
   "metadata": {},
   "source": [
    "## Inheritance"
   ]
  },
  {
   "cell_type": "markdown",
   "metadata": {},
   "source": [
    "- A class inherits from another class when that class is placed in the class definition.\n",
    "- This creates a parent and a child class where methods can be used from the parent\n",
    "- By default the child class instantiates with the `__init__` of the parent. Which can be over written "
   ]
  },
  {
   "cell_type": "code",
   "execution_count": 9,
   "metadata": {},
   "outputs": [],
   "source": [
    "class Hand(Deck):\n",
    "    \"\"\"\n",
    "    Represents a hand of playing cards\n",
    "    \"\"\"\n",
    "    def __init__(self, label=\"\"):\n",
    "        self.cards = []\n",
    "        self.label = label\n",
    "    \n",
    "    def move_cards(self, hand, num):\n",
    "        for i in range(num):\n",
    "            hand.add_cards(self.pop_card())"
   ]
  },
  {
   "cell_type": "code",
   "execution_count": 10,
   "metadata": {},
   "outputs": [],
   "source": [
    "my_hand = Hand()"
   ]
  },
  {
   "cell_type": "code",
   "execution_count": 11,
   "metadata": {},
   "outputs": [
    {
     "data": {
      "text/plain": [
       "[]"
      ]
     },
     "execution_count": 11,
     "metadata": {},
     "output_type": "execute_result"
    }
   ],
   "source": [
    "my_hand.cards"
   ]
  },
  {
   "cell_type": "markdown",
   "metadata": {},
   "source": [
    "- Inheritance allows you to modify parent classes without actually modifying the code\n",
    "- But it can make keeping track of method definitions difficult\n",
    "- Anything that can be done with inheritance, can be done without it"
   ]
  },
  {
   "cell_type": "markdown",
   "metadata": {},
   "source": [
    "## Class Diagrams"
   ]
  },
  {
   "cell_type": "markdown",
   "metadata": {},
   "source": [
    "- When objects in one class contain references to another objects in another class, it is a `HAS-A` relationship with that class. (i.e. a rectangle has a point, a deck has references to cards)\n",
    "    - This is indicated with a regular arrow, and contains the multiplicity of the reference object. How many references it has with this class\n",
    "- When a class inherits from another class, it is a `IS-A`relationship. (i.e. a hand is a kind of deck)\n",
    "    - This is indicated with an arrow with a hollow head\n",
    "- When object takes an object from another class as a parameter or use it as part of computation, the relationship is `Dependency`"
   ]
  },
  {
   "cell_type": "markdown",
   "metadata": {},
   "source": [
    "## Data Encapsulation"
   ]
  },
  {
   "cell_type": "markdown",
   "metadata": {},
   "source": [
    "Development plan for designing objects and methods:\n",
    "- 1. Start bt writing functions that read and write global variables (when necessary)\n",
    "- 2. Once you get the program working, look for associations between global variables and the functions that use them\n",
    "- 3. Encapsulate related variables as attributes of an object\n",
    "- 4. Transform the associated functions into methods of a new class"
   ]
  },
  {
   "cell_type": "markdown",
   "metadata": {},
   "source": [
    "## Debugging"
   ]
  },
  {
   "cell_type": "markdown",
   "metadata": {},
   "source": [
    "- Inheritance makes debugging a challenge, because it is not always clear what class a method will be invoked from.\n",
    "- The easiest way to keep track of it, is to include a print statement the includes the class and the method. (i.e. `Running: Deck.shuffle`)"
   ]
  },
  {
   "cell_type": "markdown",
   "metadata": {},
   "source": [
    "- Or use this function that takes an object and its method, and returns the associated class. \n",
    "- The `mro` method stands for `method resolution order`. The sequence pf classes Python searches to resolve a method name"
   ]
  },
  {
   "cell_type": "code",
   "execution_count": 12,
   "metadata": {},
   "outputs": [],
   "source": [
    "def find_defining_class(obj, meth_name):\n",
    "    for ty in type(obj).mro():\n",
    "        if meth_name in ty.__dict__:\n",
    "            return ty"
   ]
  },
  {
   "cell_type": "code",
   "execution_count": 13,
   "metadata": {},
   "outputs": [],
   "source": [
    "hand = Hand()"
   ]
  },
  {
   "cell_type": "code",
   "execution_count": 14,
   "metadata": {},
   "outputs": [
    {
     "data": {
      "text/plain": [
       "__main__.Deck"
      ]
     },
     "execution_count": 14,
     "metadata": {},
     "output_type": "execute_result"
    }
   ],
   "source": [
    "find_defining_class(hand, \"shuffle\")"
   ]
  },
  {
   "cell_type": "markdown",
   "metadata": {},
   "source": [
    "- When you override a method, the interface should be the same as the old one.\n",
    "    - Taking the same parameters, returning the same type, same precondition, and same postcondition\n",
    "    - This will make any method that works for a parent class, work for the child class as well "
   ]
  },
  {
   "cell_type": "code",
   "execution_count": null,
   "metadata": {},
   "outputs": [],
   "source": []
  }
 ],
 "metadata": {
  "kernelspec": {
   "display_name": "Python 3",
   "language": "python",
   "name": "python3"
  },
  "language_info": {
   "codemirror_mode": {
    "name": "ipython",
    "version": 3
   },
   "file_extension": ".py",
   "mimetype": "text/x-python",
   "name": "python",
   "nbconvert_exporter": "python",
   "pygments_lexer": "ipython3",
   "version": "3.7.7"
  }
 },
 "nbformat": 4,
 "nbformat_minor": 4
}
