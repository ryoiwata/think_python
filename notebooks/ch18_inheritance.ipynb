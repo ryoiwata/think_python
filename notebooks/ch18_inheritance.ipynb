{
 "cells": [
  {
   "cell_type": "markdown",
   "metadata": {},
   "source": [
    "# Chapter 18: Inheritance"
   ]
  },
  {
   "cell_type": "markdown",
   "metadata": {},
   "source": [
    "- `inheritance`is defining a class that a modified version of an existing class\n",
    "- Variable that are defined within a class but not in a method are `class attributes` because they're associated with a class but not any particular instance\n",
    "- Tuple comparison can be used to compare different aspects of things if the current aspect is the same"
   ]
  },
  {
   "cell_type": "markdown",
   "metadata": {},
   "source": [
    "## Card Objects"
   ]
  },
  {
   "cell_type": "code",
   "execution_count": 11,
   "metadata": {},
   "outputs": [],
   "source": [
    "class Card:\n",
    "    \"\"\"\n",
    "    Spades > 3\n",
    "    Heart > 2\n",
    "    Diamond > 1\n",
    "    Clubs > 0\n",
    "    Jack > 11\n",
    "    Queen > 12\n",
    "    King > 13\n",
    "    \"\"\"\n",
    "    suit_names = [None, \"Ace\", \"2\", \"3\", \"4\", \"5\", \"6\", \"7\", \"8\", \"9\", \"10\", \"Jack\", \"Queen\", \"King\"]\n",
    "    rank_names = [\"Clubs\", \"Diamonds\", \"Hearts\", \"Spades\"]\n",
    "    def __init__(self, suit=0, rank=2):\n",
    "        self.suit = suit\n",
    "        self.rank = rank\n",
    "    def __str__(self):\n",
    "        return \"{} of {}\".format(Card.suit_names[self.suit], Card.rank_names[self.rank])\n",
    "    def __lt__(self, other):\n",
    "        t1 = self.suit, self.rank\n",
    "        t2 = other.suit, other.rank\n",
    "        return t1 < t2"
   ]
  },
  {
   "cell_type": "code",
   "execution_count": 12,
   "metadata": {},
   "outputs": [],
   "source": [
    "queen_of_hearts = Card(suit=12, rank=2)"
   ]
  },
  {
   "cell_type": "code",
   "execution_count": 13,
   "metadata": {},
   "outputs": [
    {
     "name": "stdout",
     "output_type": "stream",
     "text": [
      "Queen of Hearts\n"
     ]
    }
   ],
   "source": [
    "print(queen_of_hearts)"
   ]
  },
  {
   "cell_type": "markdown",
   "metadata": {},
   "source": [
    "## Deck Object"
   ]
  },
  {
   "cell_type": "code",
   "execution_count": 18,
   "metadata": {},
   "outputs": [],
   "source": [
    "class Deck:\n",
    "    def __init__(self):\n",
    "        # nested list comp!\n",
    "        # https://stackoverflow.com/questions/3633140/nested-for-loops-using-list-comprehension\n",
    "        self.cards = [Card(suit, rank) for suit in range(4) for rank in range(14)]\n",
    "        "
   ]
  },
  {
   "cell_type": "code",
   "execution_count": null,
   "metadata": {},
   "outputs": [],
   "source": []
  }
 ],
 "metadata": {
  "kernelspec": {
   "display_name": "Python 3",
   "language": "python",
   "name": "python3"
  },
  "language_info": {
   "codemirror_mode": {
    "name": "ipython",
    "version": 3
   },
   "file_extension": ".py",
   "mimetype": "text/x-python",
   "name": "python",
   "nbconvert_exporter": "python",
   "pygments_lexer": "ipython3",
   "version": "3.7.7"
  }
 },
 "nbformat": 4,
 "nbformat_minor": 4
}
